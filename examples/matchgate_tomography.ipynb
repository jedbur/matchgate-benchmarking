{
 "cells": [
  {
   "cell_type": "code",
   "execution_count": 1,
   "metadata": {},
   "outputs": [],
   "source": [
    "import numpy as np\n",
    "import scipy\n",
    "import qiskit \n",
    "from mgbenchmark.main import mg_unitary_to_so, generate_jw_list, generate_jw_basis, unitary_to_superoperator, compound_matrix, mg_so_to_superoperator\n",
    "from mgbenchmark.utils import generate_binary_strings, superop_to_dictionaries, dictionary_to_distribution, string_to_pauli, generate_jw_list_pauli, generate_jw_list\n",
    "from qiskit import QuantumCircuit, Aer, execute\n",
    "from qiskit.extensions import UnitaryGate\n",
    "from qiskit.providers.aer import AerSimulator\n",
    "from qiskit_aer.noise import (NoiseModel, QuantumError, ReadoutError,\n",
    "    pauli_error, depolarizing_error, thermal_relaxation_error)\n",
    "from qiskit.tools.visualization import array_to_latex\n",
    "import random"
   ]
  },
  {
   "cell_type": "markdown",
   "metadata": {},
   "source": [
    "## Efficient Matchgate Tomography\n",
    "\n",
    "We start off by generating a random $R \\in SO(2n)$ matrix using the Haar Measure. We then calculate its quadratic hamiltonian elements\n",
    "\n",
    "$h_{ij} = \\frac{1}{4} \\log(R)_{ij}$\n",
    "\n",
    "and from that, find the quadratic hamiltonian:\n",
    "\n",
    "$H = i \\sum_{\\mu \\neq \\nu} h_{\\mu \\nu} c_\\mu c_\\nu$\n",
    "\n",
    "($c_\\mu$ are the Clifford Algebra generators in the Jordan-Wigner basis). \n",
    "\n",
    "We then find the corresponding unitary:\n",
    "\n",
    "$U = e^{-iH}$"
   ]
  },
  {
   "cell_type": "code",
   "execution_count": 3,
   "metadata": {},
   "outputs": [],
   "source": [
    "n=4\n",
    "jwlist = generate_jw_list(n)\n",
    "S = scipy.stats.special_ortho_group.rvs(2*n)\n",
    "log_x = scipy.linalg.logm(S) / 4\n",
    "\n",
    "quadh = np.zeros((2**n, 2**n))\n",
    "for i in range(len(log_x)):\n",
    "    for j in range(len(log_x)):\n",
    "        if i != j:\n",
    "            quadh = quadh + ( jwlist[i] @ jwlist[j] ) * log_x[i][j] * 1j\n",
    "\n",
    "U = scipy.linalg.expm(-1j * quadh)\n"
   ]
  },
  {
   "cell_type": "markdown",
   "metadata": {},
   "source": [
    "Below is code modified from the matchgate benchmarking protocol, to estimate each matrix element \n",
    "\n",
    "$R_{ij} = \\frac{1}{2^n} \\text{Tr}(c_i^\\dagger U c_j U^\\dagger)$.\n",
    "\n",
    "Each matrix element is estimated using $2 \\ln (2 / \\delta) / \\epsilon^2$ shots, where $\\epsilon$ is the precision and $\\delta$ the failure probability.\n",
    "\n",
    "This is carried out $4n^2$ times, giving a total number of shots of $8n^2 \\lceil \\ln (2 / \\delta) / \\epsilon^2 \\rceil $."
   ]
  },
  {
   "cell_type": "code",
   "execution_count": 17,
   "metadata": {},
   "outputs": [
    {
     "name": "stdout",
     "output_type": "stream",
     "text": [
      "1.5625 % complete\n",
      "3.125 % complete\n",
      "4.6875 % complete\n",
      "6.25 % complete\n",
      "7.8125 % complete\n",
      "9.375 % complete\n",
      "10.9375 % complete\n",
      "12.5 % complete\n",
      "14.0625 % complete\n",
      "15.625 % complete\n",
      "17.1875 % complete\n",
      "18.75 % complete\n",
      "20.3125 % complete\n",
      "21.875 % complete\n",
      "23.4375 % complete\n",
      "25.0 % complete\n",
      "26.5625 % complete\n",
      "28.125 % complete\n",
      "29.6875 % complete\n",
      "31.25 % complete\n",
      "32.8125 % complete\n",
      "34.375 % complete\n",
      "35.9375 % complete\n",
      "37.5 % complete\n",
      "39.0625 % complete\n",
      "40.625 % complete\n",
      "42.1875 % complete\n",
      "43.75 % complete\n",
      "45.3125 % complete\n",
      "46.875 % complete\n",
      "48.4375 % complete\n",
      "50.0 % complete\n",
      "51.5625 % complete\n",
      "53.125 % complete\n",
      "54.6875 % complete\n",
      "56.25 % complete\n",
      "57.8125 % complete\n",
      "59.375 % complete\n",
      "60.9375 % complete\n",
      "62.5 % complete\n",
      "64.0625 % complete\n",
      "65.625 % complete\n",
      "67.1875 % complete\n",
      "68.75 % complete\n",
      "70.3125 % complete\n",
      "71.875 % complete\n",
      "73.4375 % complete\n",
      "75.0 % complete\n",
      "76.5625 % complete\n",
      "78.125 % complete\n",
      "79.6875 % complete\n",
      "81.25 % complete\n",
      "82.8125 % complete\n",
      "84.375 % complete\n",
      "85.9375 % complete\n",
      "87.5 % complete\n",
      "89.0625 % complete\n",
      "90.625 % complete\n",
      "92.1875 % complete\n",
      "93.75 % complete\n",
      "95.3125 % complete\n",
      "96.875 % complete\n",
      "98.4375 % complete\n",
      "100.0 % complete\n",
      "shots: 271296\n"
     ]
    }
   ],
   "source": [
    "\n",
    "# Specify key parameters:\n",
    "epsilon = 0.05\n",
    "delta = 0.01\n",
    "\n",
    "\n",
    "# Generate the superoperator and the dictionaries\n",
    "\n",
    "ugate = UnitaryGate(U, label=\"U\")\n",
    "\n",
    "shots = 0\n",
    "progcount = 0\n",
    "jw_list = generate_jw_list_pauli(n)\n",
    "str_list = generate_binary_strings(2*n, 1)\n",
    "\n",
    "\n",
    "R = np.zeros((2*n, 2*n),dtype = 'complex128')\n",
    "\n",
    "for x in range(2*n):\n",
    "    for y in range(2*n):\n",
    "\n",
    "        jobs_dict = {}\n",
    "        circuit_dict = {}\n",
    "        phase_dict = {}\n",
    "\n",
    "        # Input iterated binary string \n",
    "        s_pair = str_list[x], str_list[y]\n",
    "\n",
    "        # Process the input string into pauli + phase\n",
    "        input_pauli = string_to_pauli(jw_list, s_pair[1])\n",
    "        input_phase = input_pauli.phase\n",
    "        input_pauli.phase = 0\n",
    "        i_string = str(input_pauli)\n",
    "\n",
    "        # Process the output string into pauli + phase\n",
    "        output_pauli = string_to_pauli(jw_list, s_pair[0]).adjoint()\n",
    "        output_phase = output_pauli.phase\n",
    "        output_pauli.phase = 0\n",
    "        j_string = str(output_pauli)\n",
    "\n",
    "        phase = (-1j) ** (input_phase + output_phase)\n",
    "\n",
    "        n_sample = int(np.ceil(2 * np.log(2 / delta) / ( epsilon ** 2)))\n",
    "\n",
    "        tr = 0\n",
    "\n",
    "        for _m in range(n_sample):\n",
    "\n",
    "            # Create the quantum circuit\n",
    "            qci = QuantumCircuit(n,n)\n",
    "            lamb = 1\n",
    "            qci_identifier = s_pair\n",
    "            qci_key = \"\"\n",
    "\n",
    "            # INITIALISE THE CIRCUIT IN PAULI EIGENSTATE\n",
    "            # Apply the cliffords to the circuit according to the input. \n",
    "            # This prepares an eigenstate of the pauli & stores the eigenvalue as lamb\n",
    "            # NOTE: The indices are reversed due to the Qiskit Convention, so q_(n-1) represents the first qubit and q_0 the last \n",
    "            for i in range(len(i_string)):\n",
    "                prob = random.randint(0,1)\n",
    "                if prob == 0:\n",
    "                    qci_key += \"0\"\n",
    "                else:\n",
    "                    qci_key += \"1\"\n",
    "\n",
    "                if i_string[i] == 'I':\n",
    "                    if prob == 0:\n",
    "                        qci.id(n-1-i)\n",
    "                    else: \n",
    "                        qci.x(n-1-i)\n",
    "                elif i_string[i] == 'Z':\n",
    "                    if prob == 0:\n",
    "                        qci.x(n-1-i)\n",
    "                        lamb = lamb * -1\n",
    "                    else:\n",
    "                        qci.id(n-1-i)\n",
    "                elif i_string[i] == 'X':\n",
    "                    if prob == 0:\n",
    "                        qci.h(n-1-i)\n",
    "                    else:\n",
    "                        qci.x(n-1-i)\n",
    "                        qci.h(n-1-i)\n",
    "                        lamb = lamb * -1\n",
    "                elif i_string[i] == 'Y':\n",
    "                    if prob == 0:\n",
    "                        qci.h(n-1-i)\n",
    "                        qci.s(n-1-i)\n",
    "                    else:\n",
    "                        qci.x(n-1-i)\n",
    "                        qci.h(n-1-i)\n",
    "                        qci.s(n-1-i)\n",
    "                        lamb = lamb * -1\n",
    "\n",
    "            # APPEND THE UNITARY GATE TO INPUT STATE\n",
    "            qci.barrier()\n",
    "            qci.append(ugate, list(range(n)))\n",
    "            qci.barrier()\n",
    "\n",
    "            # MEASURE THE OUTPUT IN PAULI BASIS\n",
    "            # Apply the cliffords to the circuit according to the output string. This will give measurements in the pauli basis\n",
    "            for j in range(len(j_string)):\n",
    "                if j_string[j] == \"I\" or j_string[j] == \"Z\":\n",
    "                    qci.id(n-1-j)\n",
    "                elif j_string[j] == \"X\":\n",
    "                    qci.h(n-1-j)\n",
    "                elif j_string[j] == \"Y\":\n",
    "                    qci.sdg(n-1-j)\n",
    "                    qci.h(n-1-j)\n",
    "\n",
    "            for j in range(len(j_string)):\n",
    "                if j_string[j] == 'X' or j_string[j] == 'Y' or j_string[j] == 'Z':\n",
    "                    qci.measure(n-1-j, n-1-j)\n",
    "\n",
    "            qci_identifier += (qci_key,)\n",
    "\n",
    "            if qci_identifier not in jobs_dict:\n",
    "                jobs_dict[qci_identifier] = 1\n",
    "                phase_dict[qci_identifier] = (lamb * phase)\n",
    "                circuit_dict[qci_identifier] = qci\n",
    "            elif qci_identifier in jobs_dict:\n",
    "                jobs_dict[qci_identifier] += 1\n",
    "            \n",
    "            shots += 1\n",
    "\n",
    "        for qci_identifier in jobs_dict:\n",
    "            simulator = Aer.get_backend('aer_simulator')\n",
    "            job = execute(circuit_dict[qci_identifier], backend=simulator, shots=jobs_dict[qci_identifier])\n",
    "            result = job.result()\n",
    "            counts = result.get_counts()\n",
    "            for strings in counts:\n",
    "                tr += (-1)**strings.count('1') * phase_dict[qci_identifier] * counts[strings]\n",
    "\n",
    "        progcount += 1\n",
    "        \n",
    "        print(progcount * 100 / (2*n)**2, \"% complete\")\n",
    "        R[x,y] = tr / n_sample\n",
    "\n",
    "print(\"shots:\", shots)\n",
    "\n"
   ]
  },
  {
   "cell_type": "markdown",
   "metadata": {},
   "source": [
    "The code has been optimised to 'batch' circuit simulations together, to reduce the number of calls to the backend.\n",
    "\n",
    "After getting an estimate $\\tilde{R}$ of $R$, we repeat the previous calculations to find $\\tilde{U}$, the estimated unitary:"
   ]
  },
  {
   "cell_type": "code",
   "execution_count": 18,
   "metadata": {},
   "outputs": [],
   "source": [
    "jwlist = generate_jw_list(n)\n",
    "log_x = scipy.linalg.logm(R) / 4\n",
    "\n",
    "quadh = np.zeros((2**n, 2**n))\n",
    "for i in range(len(log_x)):\n",
    "    for j in range(len(log_x)):\n",
    "        if i != j:\n",
    "            quadh = quadh + ( jwlist[i] @ jwlist[j] ) * log_x[i][j] * 1j\n",
    "\n",
    "U_calc = scipy.linalg.expm(-1j * quadh)"
   ]
  },
  {
   "cell_type": "markdown",
   "metadata": {},
   "source": [
    "We now find the determinant of $R$, the $L2$ norm of $U - \\tilde{U}$ and $R - \\tilde{R}$, as well as the determinant norm $\\sqrt{\\det | \\tilde{U} - U |}$."
   ]
  },
  {
   "cell_type": "code",
   "execution_count": 19,
   "metadata": {},
   "outputs": [
    {
     "name": "stderr",
     "output_type": "stream",
     "text": [
      "/Users/jedb/Documents/matchgate-benchmarking/.venv/lib/python3.11/site-packages/numpy/linalg/linalg.py:2180: RuntimeWarning: divide by zero encountered in det\n",
      "  r = _umath_linalg.det(a, signature=signature)\n",
      "/Users/jedb/Documents/matchgate-benchmarking/.venv/lib/python3.11/site-packages/numpy/linalg/linalg.py:2180: RuntimeWarning: invalid value encountered in det\n",
      "  r = _umath_linalg.det(a, signature=signature)\n"
     ]
    },
    {
     "data": {
      "text/plain": [
       "(0.9667512001009703+0j)"
      ]
     },
     "execution_count": 19,
     "metadata": {},
     "output_type": "execute_result"
    }
   ],
   "source": [
    "np.linalg.det(R)"
   ]
  },
  {
   "cell_type": "code",
   "execution_count": 20,
   "metadata": {},
   "outputs": [
    {
     "data": {
      "text/plain": [
       "0.08218891821438065"
      ]
     },
     "execution_count": 20,
     "metadata": {},
     "output_type": "execute_result"
    }
   ],
   "source": [
    "np.linalg.norm(U-U_calc, ord=2)"
   ]
  },
  {
   "cell_type": "code",
   "execution_count": 21,
   "metadata": {},
   "outputs": [
    {
     "data": {
      "text/plain": [
       "0.06727329907343096"
      ]
     },
     "execution_count": 21,
     "metadata": {},
     "output_type": "execute_result"
    }
   ],
   "source": [
    "np.linalg.norm(R-S, ord=2)"
   ]
  },
  {
   "cell_type": "code",
   "execution_count": 22,
   "metadata": {},
   "outputs": [
    {
     "data": {
      "text/plain": [
       "(3.9072191574843834e-11-8.795061170240968e-25j)"
      ]
     },
     "execution_count": 22,
     "metadata": {},
     "output_type": "execute_result"
    }
   ],
   "source": [
    "np.sqrt(np.linalg.det(U-U_calc))"
   ]
  },
  {
   "cell_type": "markdown",
   "metadata": {},
   "source": [
    "The actual and estimated matrices $R$, $U$ are printed below:"
   ]
  },
  {
   "cell_type": "code",
   "execution_count": 23,
   "metadata": {},
   "outputs": [
    {
     "data": {
      "text/latex": [
       "$$\n",
       "\n",
       "\\begin{bmatrix}\n",
       "0.6812919365 & -0.1724128601 & -0.0492465669 & -0.2381031299 & -0.0974663767 & - \\frac{2^{\\frac{738}{743}} \\cdot 3^{\\frac{162}{743}} \\cdot 5^{\\frac{216}{743}} \\cdot 7^{\\frac{136}{743}}}{70} & -0.2288832215 & 0.6150797017  \\\\\n",
       " -0.2794208507 & 0.1941418758 & 0.6109803134 & 0.2234280606 & 0.199348875 & 0.3504031991 & -0.2564399031 & 0.4824231326  \\\\\n",
       " -0.2937861184 & -0.3275379975 & -0.5257325752 & 0.0729686802 & -0.1823195259 & 0.5888579829 & 0.1782250696 & 0.3360522265  \\\\\n",
       " 0.136802954 & 0.4531763377 & 0.0451606873 & 0.3265179028 & -0.3170914328 & -0.1481535761 & 0.6794623465 & 0.2882658339  \\\\\n",
       " 0.188620649 & -0.2202545756 & -0.1241058842 & 0.3035847242 & 0.8362299804 & -0.0584010207 & 0.3153114227 & 0.078940895  \\\\\n",
       " -0.398331345 & -0.5981850543 & 0.2419666665 & 0.0056867189 & -0.1563483135 & -0.5575183387 & 0.1578863462 & 0.2544149809  \\\\\n",
       " -0.2729542566 & \\frac{3 \\cdot 2^{\\frac{228}{349}} \\cdot 3^{\\frac{96}{349}} \\cdot 5^{\\frac{675}{698}} \\cdot 7^{\\frac{309}{349}}}{490} & -0.5155053106 & 0.2896638631 & 0.0843967134 & -0.4277510351 & -0.4451543597 & 0.2605986744  \\\\\n",
       " -0.2898108314 & 0.3064605994 & -0.078407529 & -0.7780406513 & 0.293470211 & -0.0672276108 & \\frac{25 \\cdot 2^{\\frac{2}{95}} \\cdot 3^{\\frac{333}{380}} \\cdot 5^{\\frac{183}{380}} \\cdot 7^{\\frac{29}{190}}}{756} & 0.232478548  \\\\\n",
       " \\end{bmatrix}\n",
       "$$"
      ],
      "text/plain": [
       "<IPython.core.display.Latex object>"
      ]
     },
     "execution_count": 23,
     "metadata": {},
     "output_type": "execute_result"
    }
   ],
   "source": [
    "array_to_latex(S)"
   ]
  },
  {
   "cell_type": "code",
   "execution_count": 24,
   "metadata": {},
   "outputs": [
    {
     "data": {
      "text/latex": [
       "$$\n",
       "\n",
       "\\begin{bmatrix}\n",
       "0.6626562869 & -0.183769757 & -0.0644019816 & - \\frac{1701 \\cdot 2^{\\frac{98}{151}} \\cdot 3^{\\frac{72}{151}} \\cdot 5^{\\frac{63}{151}} \\cdot 7^{\\frac{20}{151}}}{50000} & -0.0922387356 & -0.0596838877 & -0.2182118424 & 0.6258551545  \\\\\n",
       " -0.2715263034 & 0.175277188 & 0.6135881104 & 0.217740033 & 0.1908468979 & 0.3531493277 & -0.2554847841 & 0.4725171031  \\\\\n",
       " -0.2998348667 & -0.3309742864 & -0.5097900448 & 0.062514744 & -0.1672564284 & 0.5763151687 & 0.1866006134 & 0.3456003774  \\\\\n",
       " 0.1229063458 & 0.443264921 & 0.0780844539 & 0.3290870488 & -0.3286152394 & -0.1332861524 & 0.6678461901 & 0.3059683888  \\\\\n",
       " 0.1700872847 & -0.2333097429 & -0.1115829205 & 0.3144609578 & 0.8339230951 & -0.0526067469 & 0.2932295353 & 0.0804435008  \\\\\n",
       " -0.3833451286 & -0.6050955414 & 0.2252889833 & -0.0058976174 & -0.1441377683 & -0.5385704176 & 0.1795234725 & 0.260202878  \\\\\n",
       " -0.2705826846 & 0.3300306676 & -0.5187544232 & 0.3130455296 & 0.0941259731 & -0.4158999764 & -0.4531729181 & 0.2937013447  \\\\\n",
       " -0.3238971456 & 0.3205944798 & -0.0785562633 & -0.7900448219 & 0.2885114414 & -0.0445859873 & 0.2469922151 & 0.2290634584  \\\\\n",
       " \\end{bmatrix}\n",
       "$$"
      ],
      "text/plain": [
       "<IPython.core.display.Latex object>"
      ]
     },
     "execution_count": 24,
     "metadata": {},
     "output_type": "execute_result"
    }
   ],
   "source": [
    "array_to_latex(R)"
   ]
  },
  {
   "cell_type": "code",
   "execution_count": 25,
   "metadata": {},
   "outputs": [
    {
     "data": {
      "text/latex": [
       "$$\n",
       "\n",
       "\\begin{bmatrix}\n",
       "0.0186356497 & 0.0113568969 & 0.0151554147 & -0.0099832903 & -0.0052276411 & -0.0226964193 & -0.0106713791 & -0.0107754528  \\\\\n",
       " -0.0078945473 & 0.0188646878 & -0.002607797 & 0.0056880276 & 0.0085019771 & -0.0027461285 & -0.000955119 & 0.0099060295  \\\\\n",
       " 0.0060487483 & 0.0034362889 & -0.0159425303 & 0.0104539362 & -0.0150630975 & 0.0125428143 & -0.0083755438 & -0.009548151  \\\\\n",
       " 0.0138966081 & 0.0099114167 & -0.0329237666 & -0.002569146 & 0.0115238067 & -0.0148674237 & 0.0116161564 & -0.0177025548  \\\\\n",
       " 0.0185333643 & 0.0130551673 & -0.0125229637 & -0.0108762336 & 0.0023068853 & -0.0057942738 & 0.0220818874 & -0.0015026058  \\\\\n",
       " -0.0149862164 & 0.0069104871 & 0.0166776833 & 0.0115843363 & -0.0122105452 & -0.0189479211 & -0.0216371263 & -0.0057878971  \\\\\n",
       " -0.002371572 & 0.0159133578 & 0.0032491126 & -0.0233816665 & -0.0097292597 & -0.0118510587 & 0.0080185584 & -0.0331026702  \\\\\n",
       " 0.0340863141 & -0.0141338804 & 0.0001487343 & 0.0120041706 & 0.0049587696 & -0.0226416235 & 0.0097294156 & 0.0034150896  \\\\\n",
       " \\end{bmatrix}\n",
       "$$"
      ],
      "text/plain": [
       "<IPython.core.display.Latex object>"
      ]
     },
     "execution_count": 25,
     "metadata": {},
     "output_type": "execute_result"
    }
   ],
   "source": [
    "array_to_latex(S- R)"
   ]
  },
  {
   "cell_type": "code",
   "execution_count": 26,
   "metadata": {},
   "outputs": [
    {
     "data": {
      "text/latex": [
       "$$\n",
       "\n",
       "\\begin{bmatrix}\n",
       "0.2070917148 - 0.1817416507 i & 0 & 0 & 0.338154301 - 0.3164720246 i & \\cdots & 0 & 0 & 0.326054222 + 0.2393313535 i  \\\\\n",
       " 0 & -0.1815636374 - 0.0253235806 i & -0.0339567889 - 0.1280691322 i & 0 & \\cdots & 0.2430095138 + 0.0713439391 i & 0.5398023403 + 0.2214999127 i & 0  \\\\\n",
       " 0 & 0.4178800051 - 0.5350265809 i & 0.1042834011 - 0.1521026197 i & 0 & \\cdots & 0.3990965782 + 0.1241031627 i & 0.0791666365 - 0.1184980761 i & 0  \\\\\n",
       " -0.1489221956 - 0.2758194079 i & 0 & 0 & -0.2459785409 - 0.1473701433 i & \\cdots & 0 & 0 & -0.0072083247 - 0.1235319732 i  \\\\\n",
       " \\vdots & \\vdots & \\vdots & \\vdots & \\ddots & \\vdots & \\vdots & \\vdots \\\\\n",
       " 0 & -0.0791666365 - 0.1184980761 i & 0.3990965782 - 0.1241031627 i & 0 & \\cdots & 0.1042834011 + 0.1521026197 i & -0.4178800051 - 0.5350265809 i & 0  \\\\\n",
       " 0 & 0.5398023403 - 0.2214999127 i & -0.2430095138 + 0.0713439391 i & 0 & \\cdots & 0.0339567889 - 0.1280691322 i & -0.1815636374 + 0.0253235806 i & 0  \\\\\n",
       " 0.326054222 - 0.2393313535 i & 0 & 0 & -0.2059630558 - 0.2297829337 i & \\cdots & 0 & 0 & 0.2070917148 + 0.1817416507 i  \\\\\n",
       " \\end{bmatrix}\n",
       "$$"
      ],
      "text/plain": [
       "<IPython.core.display.Latex object>"
      ]
     },
     "execution_count": 26,
     "metadata": {},
     "output_type": "execute_result"
    }
   ],
   "source": [
    "array_to_latex(U_calc)"
   ]
  },
  {
   "cell_type": "code",
   "execution_count": 27,
   "metadata": {},
   "outputs": [
    {
     "data": {
      "text/latex": [
       "$$\n",
       "\n",
       "\\begin{bmatrix}\n",
       "0.0352415892 + 0.000810709 i & 0 & 0 & 0.0128806208 + 0.017203716 i & \\cdots & 0 & 0 & 0.0007458148 - 0.010497796 i  \\\\\n",
       " 0 & 0.028301174 + 0.007576098 i & 0.0051940337 + 0.0178042381 i & 0 & \\cdots & 0.0188939237 + 0.0148553278 i & 0.0015203037 - 0.003183047 i & 0  \\\\\n",
       " 0 & 0.0239593629 + 0.0094444901 i & 0.0304359689 - 0.0018761829 i & 0 & \\cdots & -0.0108762132 - 0.0088190058 i & -0.0129830168 + 0.0198788276 i & 0  \\\\\n",
       " 0.0136861737 + 0.0090275686 i & 0 & 0 & 0.0307022972 - 0.006637196 i & \\cdots & 0 & 0 & -0.0012985638 + 0.019251286 i  \\\\\n",
       " \\vdots & \\vdots & \\vdots & \\vdots & \\ddots & \\vdots & \\vdots & \\vdots \\\\\n",
       " 0 & 0.0129830168 + 0.0198788276 i & -0.0108762132 + 0.0088190058 i & 0 & \\cdots & 0.0304359689 + 0.0018761829 i & -0.0239593629 + 0.0094444901 i & 0  \\\\\n",
       " 0 & 0.0015203037 + 0.003183047 i & -0.0188939237 + 0.0148553278 i & 0 & \\cdots & -0.0051940337 + 0.0178042381 i & 0.028301174 - 0.007576098 i & 0  \\\\\n",
       " 0.0007458148 + 0.010497796 i & 0 & 0 & 0.0142312225 + 0.0110456851 i & \\cdots & 0 & 0 & 0.0352415892 - 0.000810709 i  \\\\\n",
       " \\end{bmatrix}\n",
       "$$"
      ],
      "text/plain": [
       "<IPython.core.display.Latex object>"
      ]
     },
     "execution_count": 27,
     "metadata": {},
     "output_type": "execute_result"
    }
   ],
   "source": [
    "array_to_latex(U - U_calc)"
   ]
  }
 ],
 "metadata": {
  "kernelspec": {
   "display_name": ".venv",
   "language": "python",
   "name": "python3"
  },
  "language_info": {
   "codemirror_mode": {
    "name": "ipython",
    "version": 3
   },
   "file_extension": ".py",
   "mimetype": "text/x-python",
   "name": "python",
   "nbconvert_exporter": "python",
   "pygments_lexer": "ipython3",
   "version": "3.11.5"
  }
 },
 "nbformat": 4,
 "nbformat_minor": 2
}
