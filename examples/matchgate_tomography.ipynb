{
 "cells": [
  {
   "cell_type": "code",
   "execution_count": 1,
   "metadata": {},
   "outputs": [],
   "source": [
    "import numpy as np\n",
    "import scipy\n",
    "import qiskit \n",
    "from mgbenchmark.main import mg_unitary_to_so, generate_jw_list, generate_jw_basis, unitary_to_superoperator, compound_matrix, mg_so_to_superoperator\n",
    "from mgbenchmark.utils import generate_binary_strings, superop_to_dictionaries, dictionary_to_distribution, string_to_pauli, generate_jw_list_pauli, generate_jw_list\n",
    "from qiskit import QuantumCircuit, Aer, execute\n",
    "from qiskit.extensions import UnitaryGate\n",
    "from qiskit.providers.aer import AerSimulator\n",
    "from qiskit_aer.noise import (NoiseModel, QuantumError, ReadoutError,\n",
    "    pauli_error, depolarizing_error, thermal_relaxation_error)\n",
    "from qiskit.tools.visualization import array_to_latex\n",
    "import random"
   ]
  },
  {
   "cell_type": "markdown",
   "metadata": {},
   "source": [
    "## Efficient Matchgate Tomography\n",
    "\n",
    "We start off by generating a random $R \\in SO(2n)$ matrix using the Haar Measure. We then calculate its quadratic hamiltonian elements\n",
    "\n",
    "$h_{ij} = \\frac{1}{4} \\log(R)_{ij}$\n",
    "\n",
    "and from that, find the quadratic hamiltonian:\n",
    "\n",
    "$H = i \\sum_{\\mu \\neq \\nu} h_{\\mu \\nu} c_\\mu c_\\nu$\n",
    "\n",
    "($c_\\mu$ are the Clifford Algebra generators in the Jordan-Wigner basis). \n",
    "\n",
    "We then find the corresponding unitary:\n",
    "\n",
    "$U = e^{-iH}$"
   ]
  },
  {
   "cell_type": "code",
   "execution_count": 38,
   "metadata": {},
   "outputs": [],
   "source": [
    "n=2\n",
    "jwlist = generate_jw_list(n)\n",
    "S = scipy.stats.special_ortho_group.rvs(2*n)\n",
    "log_x = scipy.linalg.logm(S) / 4\n",
    "\n",
    "quadh = np.zeros((2**n, 2**n))\n",
    "for i in range(len(log_x)):\n",
    "    for j in range(len(log_x)):\n",
    "        if i != j:\n",
    "            quadh = quadh + ( jwlist[i] @ jwlist[j] ) * log_x[i][j] * 1j\n",
    "\n",
    "U = scipy.linalg.expm(-1j * quadh)\n"
   ]
  },
  {
   "cell_type": "markdown",
   "metadata": {},
   "source": [
    "Below is code modified from the matchgate benchmarking protocol, to estimate each matrix element \n",
    "\n",
    "$R_{ij} = \\frac{1}{2^n} \\text{Tr}(c_i^\\dagger U c_j U^\\dagger)$.\n",
    "\n",
    "Each matrix element is estimated using $ \\lceil n \\ln (n / \\delta) / \\epsilon^2 \\rceil$ shots, where $\\epsilon$ is the precision and $\\delta$ the failure probability.\n",
    "\n",
    "This is carried out $4n^2$ times, giving a total number of shots of $4n^3 \\lceil \\ln (n / \\delta) / \\epsilon^2 \\rceil $."
   ]
  },
  {
   "cell_type": "code",
   "execution_count": 4,
   "metadata": {},
   "outputs": [
    {
     "name": "stdout",
     "output_type": "stream",
     "text": [
      "1.5625 % complete\n",
      "3.125 % complete\n",
      "4.6875 % complete\n",
      "6.25 % complete\n",
      "7.8125 % complete\n",
      "9.375 % complete\n",
      "10.9375 % complete\n",
      "12.5 % complete\n",
      "14.0625 % complete\n",
      "15.625 % complete\n",
      "17.1875 % complete\n",
      "18.75 % complete\n",
      "20.3125 % complete\n",
      "21.875 % complete\n",
      "23.4375 % complete\n",
      "25.0 % complete\n",
      "26.5625 % complete\n",
      "28.125 % complete\n",
      "29.6875 % complete\n",
      "31.25 % complete\n",
      "32.8125 % complete\n",
      "34.375 % complete\n",
      "35.9375 % complete\n",
      "37.5 % complete\n",
      "39.0625 % complete\n",
      "40.625 % complete\n",
      "42.1875 % complete\n",
      "43.75 % complete\n",
      "45.3125 % complete\n",
      "46.875 % complete\n",
      "48.4375 % complete\n",
      "50.0 % complete\n",
      "51.5625 % complete\n",
      "53.125 % complete\n",
      "54.6875 % complete\n",
      "56.25 % complete\n",
      "57.8125 % complete\n",
      "59.375 % complete\n",
      "60.9375 % complete\n",
      "62.5 % complete\n",
      "64.0625 % complete\n",
      "65.625 % complete\n",
      "67.1875 % complete\n",
      "68.75 % complete\n",
      "70.3125 % complete\n",
      "71.875 % complete\n",
      "73.4375 % complete\n",
      "75.0 % complete\n",
      "76.5625 % complete\n",
      "78.125 % complete\n",
      "79.6875 % complete\n",
      "81.25 % complete\n",
      "82.8125 % complete\n",
      "84.375 % complete\n",
      "85.9375 % complete\n",
      "87.5 % complete\n",
      "89.0625 % complete\n",
      "90.625 % complete\n",
      "92.1875 % complete\n",
      "93.75 % complete\n",
      "95.3125 % complete\n",
      "96.875 % complete\n",
      "98.4375 % complete\n",
      "100.0 % complete\n",
      "shots: 271296\n"
     ]
    }
   ],
   "source": [
    "\n",
    "# Specify key parameters:\n",
    "epsilon = 0.05\n",
    "delta = 0.01\n",
    "\n",
    "\n",
    "# Generate the superoperator and the dictionaries\n",
    "\n",
    "ugate = UnitaryGate(U, label=\"U\")\n",
    "\n",
    "shots = 0\n",
    "progcount = 0\n",
    "jw_list = generate_jw_list_pauli(n)\n",
    "str_list = generate_binary_strings(2*n, 1)\n",
    "\n",
    "\n",
    "R = np.zeros((2*n, 2*n),dtype = 'complex128')\n",
    "\n",
    "for x in range(2*n):\n",
    "    for y in range(2*n):\n",
    "\n",
    "        jobs_dict = {}\n",
    "        circuit_dict = {}\n",
    "        phase_dict = {}\n",
    "\n",
    "        # Input iterated binary string \n",
    "        s_pair = str_list[x], str_list[y]\n",
    "\n",
    "        # Process the input string into pauli + phase\n",
    "        input_pauli = string_to_pauli(jw_list, s_pair[1])\n",
    "        input_phase = input_pauli.phase\n",
    "        input_pauli.phase = 0\n",
    "        i_string = str(input_pauli)\n",
    "\n",
    "        # Process the output string into pauli + phase\n",
    "        output_pauli = string_to_pauli(jw_list, s_pair[0]).adjoint()\n",
    "        output_phase = output_pauli.phase\n",
    "        output_pauli.phase = 0\n",
    "        j_string = str(output_pauli)\n",
    "\n",
    "        phase = (-1j) ** (input_phase + output_phase)\n",
    "\n",
    "        n_sample = int(np.ceil(n * np.log(n / delta) / ( epsilon ** 2)))\n",
    "\n",
    "        tr = 0\n",
    "\n",
    "        for _m in range(n_sample):\n",
    "\n",
    "            # Create the quantum circuit\n",
    "            qci = QuantumCircuit(n,n)\n",
    "            lamb = 1\n",
    "            qci_identifier = s_pair\n",
    "            qci_key = \"\"\n",
    "\n",
    "            # INITIALISE THE CIRCUIT IN PAULI EIGENSTATE\n",
    "            # Apply the cliffords to the circuit according to the input. \n",
    "            # This prepares an eigenstate of the pauli & stores the eigenvalue as lamb\n",
    "            # NOTE: The indices are reversed due to the Qiskit Convention, so q_(n-1) represents the first qubit and q_0 the last \n",
    "            for i in range(len(i_string)):\n",
    "                prob = random.randint(0,1)\n",
    "                if prob == 0:\n",
    "                    qci_key += \"0\"\n",
    "                else:\n",
    "                    qci_key += \"1\"\n",
    "\n",
    "                if i_string[i] == 'I':\n",
    "                    if prob == 0:\n",
    "                        qci.id(n-1-i)\n",
    "                    else: \n",
    "                        qci.x(n-1-i)\n",
    "                elif i_string[i] == 'Z':\n",
    "                    if prob == 0:\n",
    "                        qci.x(n-1-i)\n",
    "                        lamb = lamb * -1\n",
    "                    else:\n",
    "                        qci.id(n-1-i)\n",
    "                elif i_string[i] == 'X':\n",
    "                    if prob == 0:\n",
    "                        qci.h(n-1-i)\n",
    "                    else:\n",
    "                        qci.x(n-1-i)\n",
    "                        qci.h(n-1-i)\n",
    "                        lamb = lamb * -1\n",
    "                elif i_string[i] == 'Y':\n",
    "                    if prob == 0:\n",
    "                        qci.h(n-1-i)\n",
    "                        qci.s(n-1-i)\n",
    "                    else:\n",
    "                        qci.x(n-1-i)\n",
    "                        qci.h(n-1-i)\n",
    "                        qci.s(n-1-i)\n",
    "                        lamb = lamb * -1\n",
    "\n",
    "            # APPEND THE UNITARY GATE TO INPUT STATE\n",
    "            qci.barrier()\n",
    "            qci.append(ugate, list(range(n)))\n",
    "            qci.barrier()\n",
    "\n",
    "            # MEASURE THE OUTPUT IN PAULI BASIS\n",
    "            # Apply the cliffords to the circuit according to the output string. This will give measurements in the pauli basis\n",
    "            for j in range(len(j_string)):\n",
    "                if j_string[j] == \"I\" or j_string[j] == \"Z\":\n",
    "                    qci.id(n-1-j)\n",
    "                elif j_string[j] == \"X\":\n",
    "                    qci.h(n-1-j)\n",
    "                elif j_string[j] == \"Y\":\n",
    "                    qci.sdg(n-1-j)\n",
    "                    qci.h(n-1-j)\n",
    "\n",
    "            for j in range(len(j_string)):\n",
    "                if j_string[j] == 'X' or j_string[j] == 'Y' or j_string[j] == 'Z':\n",
    "                    qci.measure(n-1-j, n-1-j)\n",
    "\n",
    "            qci_identifier += (qci_key,)\n",
    "\n",
    "            if qci_identifier not in jobs_dict:\n",
    "                jobs_dict[qci_identifier] = 1\n",
    "                phase_dict[qci_identifier] = (lamb * phase)\n",
    "                circuit_dict[qci_identifier] = qci\n",
    "            elif qci_identifier in jobs_dict:\n",
    "                jobs_dict[qci_identifier] += 1\n",
    "            \n",
    "            shots += 1\n",
    "\n",
    "        for qci_identifier in jobs_dict:\n",
    "            simulator = Aer.get_backend('aer_simulator')\n",
    "            job = execute(circuit_dict[qci_identifier], backend=simulator, shots=jobs_dict[qci_identifier])\n",
    "            result = job.result()\n",
    "            counts = result.get_counts()\n",
    "            for strings in counts:\n",
    "                tr += (-1)**strings.count('1') * phase_dict[qci_identifier] * counts[strings]\n",
    "\n",
    "        progcount += 1\n",
    "        \n",
    "        print(progcount * 100 / (2*n)**2, \"% complete\")\n",
    "        R[x,y] = tr / n_sample\n",
    "\n",
    "print(\"shots:\", shots)\n",
    "\n"
   ]
  },
  {
   "cell_type": "markdown",
   "metadata": {},
   "source": [
    "The code has been optimised to 'batch' circuit simulations together, to reduce the number of calls to the backend.\n",
    "\n",
    "After getting an estimate $\\tilde{R}$ of $R$, we repeat the previous calculations to find $\\tilde{U}$, the estimated unitary:"
   ]
  },
  {
   "cell_type": "code",
   "execution_count": 5,
   "metadata": {},
   "outputs": [],
   "source": [
    "jwlist = generate_jw_list(n)\n",
    "log_x = scipy.linalg.logm(R) / 4\n",
    "\n",
    "quadh = np.zeros((2**n, 2**n))\n",
    "for i in range(len(log_x)):\n",
    "    for j in range(len(log_x)):\n",
    "        if i != j:\n",
    "            quadh = quadh + ( jwlist[i] @ jwlist[j] ) * log_x[i][j] * 1j\n",
    "\n",
    "U_calc = scipy.linalg.expm(-1j * quadh)"
   ]
  },
  {
   "cell_type": "markdown",
   "metadata": {},
   "source": [
    "We now find the determinant of $R$, the $L2$ norm of $U - \\tilde{U}$ and $R - \\tilde{R}$, as well as the determinant norm $\\sqrt{\\det | \\tilde{U} - U |}$."
   ]
  },
  {
   "cell_type": "code",
   "execution_count": 6,
   "metadata": {},
   "outputs": [
    {
     "name": "stderr",
     "output_type": "stream",
     "text": [
      "/Users/jedb/Documents/matchgate-benchmarking/.venv/lib/python3.11/site-packages/numpy/linalg/linalg.py:2180: RuntimeWarning: divide by zero encountered in det\n",
      "  r = _umath_linalg.det(a, signature=signature)\n",
      "/Users/jedb/Documents/matchgate-benchmarking/.venv/lib/python3.11/site-packages/numpy/linalg/linalg.py:2180: RuntimeWarning: invalid value encountered in det\n",
      "  r = _umath_linalg.det(a, signature=signature)\n"
     ]
    },
    {
     "data": {
      "text/plain": [
       "(0.9593259280642799+0j)"
      ]
     },
     "execution_count": 6,
     "metadata": {},
     "output_type": "execute_result"
    }
   ],
   "source": [
    "np.linalg.det(R)"
   ]
  },
  {
   "cell_type": "code",
   "execution_count": 7,
   "metadata": {},
   "outputs": [
    {
     "data": {
      "text/plain": [
       "0.1357554150030452"
      ]
     },
     "execution_count": 7,
     "metadata": {},
     "output_type": "execute_result"
    }
   ],
   "source": [
    "np.linalg.norm(U-U_calc, ord=2)"
   ]
  },
  {
   "cell_type": "code",
   "execution_count": 8,
   "metadata": {},
   "outputs": [
    {
     "data": {
      "text/plain": [
       "0.0606044231102773"
      ]
     },
     "execution_count": 8,
     "metadata": {},
     "output_type": "execute_result"
    }
   ],
   "source": [
    "np.linalg.norm(R-S, ord=2)"
   ]
  },
  {
   "cell_type": "code",
   "execution_count": 22,
   "metadata": {},
   "outputs": [
    {
     "data": {
      "text/plain": [
       "(3.9072191574843834e-11-8.795061170240968e-25j)"
      ]
     },
     "execution_count": 22,
     "metadata": {},
     "output_type": "execute_result"
    }
   ],
   "source": [
    "np.sqrt(np.linalg.det(U-U_calc))"
   ]
  },
  {
   "cell_type": "markdown",
   "metadata": {},
   "source": [
    "The actual and estimated matrices $R$, $U$ are printed below:"
   ]
  },
  {
   "cell_type": "code",
   "execution_count": 34,
   "metadata": {},
   "outputs": [
    {
     "data": {
      "text/latex": [
       "$$\n",
       "\n",
       "\\begin{bmatrix}\n",
       "0.0490269077 & 0.3875798433 & -0.7684868705 & 0.5067604536  \\\\\n",
       " -0.4216617898 & 0.7218744124 & 0.4942929273 & 0.2382712107  \\\\\n",
       " 0.1481965847 & 0.5240176809 & -0.2534710994 & -0.7994971195  \\\\\n",
       " 0.8932163621 & 0.2325611058 & 0.3175765006 & 0.2173132043  \\\\\n",
       " \\end{bmatrix}\n",
       "$$"
      ],
      "text/plain": [
       "<IPython.core.display.Latex object>"
      ]
     },
     "execution_count": 34,
     "metadata": {},
     "output_type": "execute_result"
    }
   ],
   "source": [
    "array_to_latex(S)"
   ]
  },
  {
   "cell_type": "code",
   "execution_count": 35,
   "metadata": {},
   "outputs": [
    {
     "data": {
      "text/latex": [
       "$$\n",
       "\n",
       "\\begin{bmatrix}\n",
       "1 & 0 & 0 & 0 & 0 & 0 & 0 & 0  \\\\\n",
       " 0 & 1 & 0 & 0 & 0 & 0 & 0 & 0  \\\\\n",
       " 0 & 0 & 1 & 0 & 0 & 0 & 0 & 0  \\\\\n",
       " 0 & 0 & 0 & 1 & 0 & 0 & 0 & 0  \\\\\n",
       " 0 & 0 & 0 & 0 & 1 & 0 & 0 & 0  \\\\\n",
       " 0 & 0 & 0 & 0 & 0 & 1 & 0 & 0  \\\\\n",
       " 0 & 0 & 0 & 0 & 0 & 0 & 1 & 0  \\\\\n",
       " 0 & 0 & 0 & 0 & 0 & 0 & 0 & 1  \\\\\n",
       " \\end{bmatrix}\n",
       "$$"
      ],
      "text/plain": [
       "<IPython.core.display.Latex object>"
      ]
     },
     "execution_count": 35,
     "metadata": {},
     "output_type": "execute_result"
    }
   ],
   "source": [
    "array_to_latex(R)"
   ]
  },
  {
   "cell_type": "code",
   "execution_count": 25,
   "metadata": {},
   "outputs": [
    {
     "data": {
      "text/latex": [
       "$$\n",
       "\n",
       "\\begin{bmatrix}\n",
       "0.0186356497 & 0.0113568969 & 0.0151554147 & -0.0099832903 & -0.0052276411 & -0.0226964193 & -0.0106713791 & -0.0107754528  \\\\\n",
       " -0.0078945473 & 0.0188646878 & -0.002607797 & 0.0056880276 & 0.0085019771 & -0.0027461285 & -0.000955119 & 0.0099060295  \\\\\n",
       " 0.0060487483 & 0.0034362889 & -0.0159425303 & 0.0104539362 & -0.0150630975 & 0.0125428143 & -0.0083755438 & -0.009548151  \\\\\n",
       " 0.0138966081 & 0.0099114167 & -0.0329237666 & -0.002569146 & 0.0115238067 & -0.0148674237 & 0.0116161564 & -0.0177025548  \\\\\n",
       " 0.0185333643 & 0.0130551673 & -0.0125229637 & -0.0108762336 & 0.0023068853 & -0.0057942738 & 0.0220818874 & -0.0015026058  \\\\\n",
       " -0.0149862164 & 0.0069104871 & 0.0166776833 & 0.0115843363 & -0.0122105452 & -0.0189479211 & -0.0216371263 & -0.0057878971  \\\\\n",
       " -0.002371572 & 0.0159133578 & 0.0032491126 & -0.0233816665 & -0.0097292597 & -0.0118510587 & 0.0080185584 & -0.0331026702  \\\\\n",
       " 0.0340863141 & -0.0141338804 & 0.0001487343 & 0.0120041706 & 0.0049587696 & -0.0226416235 & 0.0097294156 & 0.0034150896  \\\\\n",
       " \\end{bmatrix}\n",
       "$$"
      ],
      "text/plain": [
       "<IPython.core.display.Latex object>"
      ]
     },
     "execution_count": 25,
     "metadata": {},
     "output_type": "execute_result"
    }
   ],
   "source": [
    "array_to_latex(S- R)"
   ]
  },
  {
   "cell_type": "code",
   "execution_count": 10,
   "metadata": {},
   "outputs": [
    {
     "data": {
      "text/latex": [
       "$$\n",
       "\n",
       "\\begin{bmatrix}\n",
       "0.1703645233 + 0.147252968 i & 0 & 0 & -0.4577672376 + 0.0731549095 i & 0 & -0.1235135207 + 0.33305925 i & 0.0615399455 + 0.0212120761 i & 0 & 0 & -0.305011427 - 0.3582969768 i & 0.0079240075 - 0.0675115733 i & 0 & -0.2769243249 - 0.2062146763 i & 0 & 0 & 0.4674042745 - 0.200651963 i  \\\\\n",
       " 0 & -0.0897625341 - 0.1586578959 i & -0.3349915029 + 0.0253084112 i & 0 & -0.0863507267 + 0.3400061473 i & 0 & 0 & -0.239838911 - 0.1386060946 i & -0.1662727609 - 0.3694659282 i & 0 & 0 & 0.0780379591 + 0.2228757616 i & 0 & 0.3225937349 + 0.4576399393 i & 0.3255712398 - 0.1212545283 i & 0  \\\\\n",
       " 0 & -0.3257181963 - 0.2349786862 i & 0.0083298211 + 0.2607840077 i & 0 & -0.1552836773 + 0.0606064793 i & 0 & 0 & 0.3784708904 - 0.5093084639 i & -0.2762342083 + 0.2048563611 i & 0 & 0 & -0.0257708071 - 0.0442296554 i & 0 & -0.2709620744 + 0.1037907645 i & -0.1353468275 - 0.341745375 i & 0  \\\\\n",
       " -0.1995315778 - 0.252353045 i & 0 & 0 & 0.1354365583 - 0.083490809 i & 0 & 0.2973536168 + 0.1794937776 i & 0.376075263 - 0.4677406383 i & 0 & 0 & 0.2449957949 - 0.1267180077 i & -0.1395517642 + 0.0166884959 i & 0 & -0.4440793336 + 0.1028112545 i & 0 & 0 & 0.1725491739 + 0.2386562299 i  \\\\\n",
       " 0 & 0.1523979029 - 0.4791586771 i & 0.2925961374 - 0.0712665628 i & 0 & 0.0690814125 - 0.2899974718 i & 0 & 0 & 0.0877405446 - 0.0447512575 i & 0.0650896862 - 0.0856484987 i & 0 & 0 & 0.5300461075 + 0.2050401098 i & 0 & 0.2177082155 + 0.2216565726 i & -0.3470930203 + 0.0797109903 i & 0  \\\\\n",
       " 0.1563307646 - 0.4256984703 i & 0 & 0 & -0.1257075278 + 0.1198684298 i & 0 & -0.1900527589 + 0.3199693716 i & -0.0729832238 - 0.1108079257 i & 0 & 0 & 0.0808681962 + 0.2108291392 i & 0.4207263917 + 0.2976726996 i & 0 & 0.3056969166 + 0.27860869 i & 0 & 0 & 0.3004513669 + 0.1735296213 i  \\\\\n",
       " -0.2944847597 - 0.1188923838 i & 0 & 0 & -0.4589976153 + 0.1125711119 i & 0 & -0.325268119 - 0.2401696517 i & 0.2640261957 - 0.385302989 i & 0 & 0 & -0.195260756 + 0.1147665498 i & 0.1355452521 - 0.3779304757 i & 0 & 0.087927816 + 0.0216554616 i & 0 & 0 & -0.2652074613 + 0.0557304596 i  \\\\\n",
       " 0 & 0.0608222323 + 0.0215070101 i & -0.4795876323 + 0.0361315337 i & 0 & -0.4390742754 - 0.3542587758 i & 0 & 0 & -0.2857136976 + 0.1425501991 i & -0.3064230772 + 0.1452093734 i & 0 & 0 & -0.0797306696 + 0.2329500029 i & 0 & -0.0507792771 - 0.0161321621 i & -0.4032888969 + 0.0566187254 i & 0  \\\\\n",
       " 0 & 0.4032888969 + 0.0566187254 i & -0.0507792771 + 0.0161321621 i & 0 & 0.0797306696 + 0.2329500029 i & 0 & 0 & -0.3064230772 - 0.1452093734 i & -0.2857136976 - 0.1425501991 i & 0 & 0 & 0.4390742754 - 0.3542587758 i & 0 & -0.4795876323 - 0.0361315337 i & -0.0608222323 + 0.0215070101 i & 0  \\\\\n",
       " 0.2652074613 + 0.0557304596 i & 0 & 0 & 0.087927816 - 0.0216554616 i & 0 & -0.1355452521 - 0.3779304757 i & -0.195260756 - 0.1147665498 i & 0 & 0 & 0.2640261957 + 0.385302989 i & 0.325268119 - 0.2401696517 i & 0 & -0.4589976153 - 0.1125711119 i & 0 & 0 & 0.2944847597 - 0.1188923838 i  \\\\\n",
       " 0.3004513669 - 0.1735296213 i & 0 & 0 & -0.3056969166 + 0.27860869 i & 0 & 0.4207263917 - 0.2976726996 i & -0.0808681962 + 0.2108291392 i & 0 & 0 & 0.0729832238 - 0.1108079257 i & -0.1900527589 - 0.3199693716 i & 0 & 0.1257075278 + 0.1198684298 i & 0 & 0 & 0.1563307646 + 0.4256984703 i  \\\\\n",
       " 0 & -0.3470930203 - 0.0797109903 i & -0.2177082155 + 0.2216565726 i & 0 & 0.5300461075 - 0.2050401098 i & 0 & 0 & -0.0650896862 - 0.0856484987 i & -0.0877405446 - 0.0447512575 i & 0 & 0 & 0.0690814125 + 0.2899974718 i & 0 & -0.2925961374 - 0.0712665628 i & 0.1523979029 + 0.4791586771 i & 0  \\\\\n",
       " -0.1725491739 + 0.2386562299 i & 0 & 0 & -0.4440793336 - 0.1028112545 i & 0 & 0.1395517642 + 0.0166884959 i & 0.2449957949 + 0.1267180077 i & 0 & 0 & 0.376075263 + 0.4677406383 i & -0.2973536168 + 0.1794937776 i & 0 & 0.1354365583 + 0.083490809 i & 0 & 0 & 0.1995315778 - 0.252353045 i  \\\\\n",
       " 0 & 0.1353468275 - 0.341745375 i & -0.2709620744 - 0.1037907645 i & 0 & 0.0257708071 - 0.0442296554 i & 0 & 0 & -0.2762342083 - 0.2048563611 i & 0.3784708904 + 0.5093084639 i & 0 & 0 & 0.1552836773 + 0.0606064793 i & 0 & 0.0083298211 - 0.2607840077 i & 0.3257181963 - 0.2349786862 i & 0  \\\\\n",
       " 0 & 0.3255712398 + 0.1212545283 i & -0.3225937349 + 0.4576399393 i & 0 & 0.0780379591 - 0.2228757616 i & 0 & 0 & 0.1662727609 - 0.3694659282 i & 0.239838911 - 0.1386060946 i & 0 & 0 & -0.0863507267 - 0.3400061473 i & 0 & 0.3349915029 + 0.0253084112 i & -0.0897625341 + 0.1586578959 i & 0  \\\\\n",
       " 0.4674042745 + 0.200651963 i & 0 & 0 & 0.2769243249 - 0.2062146763 i & 0 & 0.0079240075 + 0.0675115733 i & 0.305011427 - 0.3582969768 i & 0 & 0 & -0.0615399455 + 0.0212120761 i & -0.1235135207 - 0.33305925 i & 0 & 0.4577672376 + 0.0731549095 i & 0 & 0 & 0.1703645233 - 0.147252968 i  \\\\\n",
       " \\end{bmatrix}\n",
       "$$"
      ],
      "text/plain": [
       "<IPython.core.display.Latex object>"
      ]
     },
     "execution_count": 10,
     "metadata": {},
     "output_type": "execute_result"
    }
   ],
   "source": [
    "array_to_latex(U, max_size=100)"
   ]
  },
  {
   "cell_type": "code",
   "execution_count": 27,
   "metadata": {},
   "outputs": [
    {
     "data": {
      "text/latex": [
       "$$\n",
       "\n",
       "\\begin{bmatrix}\n",
       "0.0352415892 + 0.000810709 i & 0 & 0 & 0.0128806208 + 0.017203716 i & \\cdots & 0 & 0 & 0.0007458148 - 0.010497796 i  \\\\\n",
       " 0 & 0.028301174 + 0.007576098 i & 0.0051940337 + 0.0178042381 i & 0 & \\cdots & 0.0188939237 + 0.0148553278 i & 0.0015203037 - 0.003183047 i & 0  \\\\\n",
       " 0 & 0.0239593629 + 0.0094444901 i & 0.0304359689 - 0.0018761829 i & 0 & \\cdots & -0.0108762132 - 0.0088190058 i & -0.0129830168 + 0.0198788276 i & 0  \\\\\n",
       " 0.0136861737 + 0.0090275686 i & 0 & 0 & 0.0307022972 - 0.006637196 i & \\cdots & 0 & 0 & -0.0012985638 + 0.019251286 i  \\\\\n",
       " \\vdots & \\vdots & \\vdots & \\vdots & \\ddots & \\vdots & \\vdots & \\vdots \\\\\n",
       " 0 & 0.0129830168 + 0.0198788276 i & -0.0108762132 + 0.0088190058 i & 0 & \\cdots & 0.0304359689 + 0.0018761829 i & -0.0239593629 + 0.0094444901 i & 0  \\\\\n",
       " 0 & 0.0015203037 + 0.003183047 i & -0.0188939237 + 0.0148553278 i & 0 & \\cdots & -0.0051940337 + 0.0178042381 i & 0.028301174 - 0.007576098 i & 0  \\\\\n",
       " 0.0007458148 + 0.010497796 i & 0 & 0 & 0.0142312225 + 0.0110456851 i & \\cdots & 0 & 0 & 0.0352415892 - 0.000810709 i  \\\\\n",
       " \\end{bmatrix}\n",
       "$$"
      ],
      "text/plain": [
       "<IPython.core.display.Latex object>"
      ]
     },
     "execution_count": 27,
     "metadata": {},
     "output_type": "execute_result"
    }
   ],
   "source": [
    "array_to_latex(U - U_calc)"
   ]
  }
 ],
 "metadata": {
  "kernelspec": {
   "display_name": ".venv",
   "language": "python",
   "name": "python3"
  },
  "language_info": {
   "codemirror_mode": {
    "name": "ipython",
    "version": 3
   },
   "file_extension": ".py",
   "mimetype": "text/x-python",
   "name": "python",
   "nbconvert_exporter": "python",
   "pygments_lexer": "ipython3",
   "version": "3.11.5"
  }
 },
 "nbformat": 4,
 "nbformat_minor": 2
}
