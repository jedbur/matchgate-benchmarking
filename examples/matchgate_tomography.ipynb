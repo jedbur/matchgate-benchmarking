{
 "cells": [
  {
   "cell_type": "code",
   "execution_count": 1,
   "metadata": {},
   "outputs": [],
   "source": [
    "import numpy as np\n",
    "import scipy\n",
    "import qiskit \n",
    "from mgbenchmark.main import mg_unitary_to_so, generate_jw_list, generate_jw_basis, unitary_to_superoperator, compound_matrix, mg_so_to_superoperator\n",
    "from mgbenchmark.utils import generate_binary_strings, superop_to_dictionaries, dictionary_to_distribution, string_to_pauli, generate_jw_list_pauli, generate_jw_list\n",
    "from qiskit import QuantumCircuit, Aer, execute\n",
    "from qiskit.extensions import UnitaryGate\n",
    "from qiskit.providers.aer import AerSimulator\n",
    "from qiskit_aer.noise import (NoiseModel, QuantumError, ReadoutError,\n",
    "    pauli_error, depolarizing_error, thermal_relaxation_error)\n",
    "from qiskit.tools.visualization import array_to_latex\n",
    "import random"
   ]
  },
  {
   "cell_type": "markdown",
   "metadata": {},
   "source": [
    "## Efficient Matchgate Tomography\n",
    "\n",
    "We start off by generating a random $R \\in SO(2n)$ matrix using the Haar Measure. We then calculate its quadratic hamiltonian elements\n",
    "\n",
    "$h_{ij} = \\frac{1}{4} \\log(R)_{ij}$\n",
    "\n",
    "and from that, find the quadratic hamiltonian:\n",
    "\n",
    "$H = i \\sum_{\\mu \\neq \\nu} h_{\\mu \\nu} c_\\mu c_\\nu$\n",
    "\n",
    "($c_\\mu$ are the Clifford Algebra generators in the Jordan-Wigner basis). \n",
    "\n",
    "We then find the corresponding unitary:\n",
    "\n",
    "$U = e^{-iH}$"
   ]
  },
  {
   "cell_type": "code",
   "execution_count": 259,
   "metadata": {},
   "outputs": [],
   "source": [
    "n=8\n",
    "jwlist = generate_jw_list(n)\n",
    "S = scipy.stats.special_ortho_group.rvs(2*n)\n",
    "log_x = scipy.linalg.logm(S) / 4\n",
    "\n",
    "quadh = np.zeros((2**n, 2**n))\n",
    "for i in range(len(log_x)):\n",
    "    for j in range(len(log_x)):\n",
    "        if i != j:\n",
    "            quadh = quadh + ( jwlist[i] @ jwlist[j] ) * log_x[i][j] * 1j\n",
    "\n",
    "U = scipy.linalg.expm(-1j * quadh)\n"
   ]
  },
  {
   "cell_type": "markdown",
   "metadata": {},
   "source": [
    "Below is code modified from the matchgate benchmarking protocol, to estimate each matrix element \n",
    "\n",
    "$R_{ij} = \\frac{1}{2^n} \\text{Tr}(c_i^\\dagger U c_j U^\\dagger)$.\n",
    "\n",
    "Each matrix element is estimated using $2 \\ln (2 / \\delta) / \\epsilon^2$ shots, where $\\epsilon$ is the precision and $\\delta$ the failure probability.\n",
    "\n",
    "This is carried out $4n^2$ times, giving a total number of shots of $8n^2 \\lceil \\ln (2 / \\delta) / \\epsilon^2 \\rceil $."
   ]
  },
  {
   "cell_type": "code",
   "execution_count": 262,
   "metadata": {},
   "outputs": [
    {
     "name": "stdout",
     "output_type": "stream",
     "text": [
      "0 0 (-111+0j)\n",
      "0 1 (299+0j)\n",
      "0 2 (1145+0j)\n",
      "0 3 (719+0j)\n",
      "0 4 (-583+0j)\n",
      "0 5 (-1149+0j)\n",
      "0 6 (1741+0j)\n",
      "0 7 (351+0j)\n",
      "0 8 (-517+0j)\n",
      "0 9 (1455+0j)\n",
      "0 10 (841+0j)\n",
      "0 11 (-859+0j)\n",
      "0 12 (1343+0j)\n",
      "0 13 (-791+0j)\n",
      "0 14 (311+0j)\n",
      "0 15 (2147+0j)\n",
      "1 0 (-121+0j)\n",
      "1 1 (381+0j)\n",
      "1 2 (-1221+0j)\n",
      "1 3 (1043+0j)\n",
      "1 4 (1631+0j)\n",
      "1 5 (457+0j)\n",
      "1 6 (-37+0j)\n",
      "1 7 (3015+0j)\n",
      "1 8 (-713+0j)\n",
      "1 9 (349+0j)\n",
      "1 10 (487+0j)\n",
      "1 11 (-517+0j)\n",
      "1 12 (401+0j)\n",
      "1 13 (845+0j)\n",
      "1 14 (-951+0j)\n",
      "1 15 (-167+0j)\n",
      "2 0 (147+0j)\n",
      "2 1 (1291+0j)\n",
      "2 2 (-627+0j)\n",
      "2 3 (209+0j)\n",
      "2 4 (1403+0j)\n",
      "2 5 (-535+0j)\n",
      "2 6 (-179+0j)\n",
      "2 7 (-817+0j)\n",
      "2 8 (-1315+0j)\n",
      "2 9 (387+0j)\n",
      "2 10 (-1909+0j)\n",
      "2 11 (331+0j)\n",
      "2 12 (-1831+0j)\n",
      "2 13 (189+0j)\n",
      "2 14 (111+0j)\n",
      "2 15 (2009+0j)\n",
      "3 0 (-2713+0j)\n",
      "3 1 (1243+0j)\n",
      "3 2 (-313+0j)\n",
      "3 3 (-25+0j)\n",
      "3 4 (-93+0j)\n",
      "3 5 (-155+0j)\n",
      "3 6 (127+0j)\n",
      "3 7 (663+0j)\n",
      "3 8 (1457+0j)\n",
      "3 9 (-1235+0j)\n",
      "3 10 (-1357+0j)\n",
      "3 11 (-295+0j)\n",
      "3 12 (1257+0j)\n",
      "3 13 (149+0j)\n",
      "3 14 (1201+0j)\n",
      "3 15 (137+0j)\n",
      "4 0 (-1019+0j)\n",
      "4 1 (499+0j)\n",
      "4 2 (-1439+0j)\n",
      "4 3 (-1195+0j)\n",
      "4 4 (-1429+0j)\n",
      "4 5 (771+0j)\n",
      "4 6 (1097+0j)\n",
      "4 7 (423+0j)\n",
      "4 8 (-1233+0j)\n",
      "4 9 (289+0j)\n",
      "4 10 (161+0j)\n",
      "4 11 (-793+0j)\n",
      "4 12 (-1499+0j)\n",
      "4 13 (-2043+0j)\n",
      "4 14 (-443+0j)\n",
      "4 15 (-749+0j)\n",
      "5 0 (843+0j)\n",
      "5 1 (-641+0j)\n",
      "5 2 (1231+0j)\n",
      "5 3 (-655+0j)\n",
      "5 4 (1323+0j)\n",
      "5 5 (-273+0j)\n",
      "5 6 (867+0j)\n",
      "5 7 (1735+0j)\n",
      "5 8 (1665+0j)\n",
      "5 9 (-1113+0j)\n",
      "5 10 (-103+0j)\n",
      "5 11 (485+0j)\n",
      "5 12 (-1575+0j)\n",
      "5 13 (-1627+0j)\n",
      "5 14 (495+0j)\n",
      "5 15 (509+0j)\n",
      "6 0 (1189+0j)\n",
      "6 1 (1071+0j)\n",
      "6 2 (383+0j)\n",
      "6 3 (-1005+0j)\n",
      "6 4 (-167+0j)\n",
      "6 5 (-1105+0j)\n",
      "6 6 (-329+0j)\n",
      "6 7 (535+0j)\n",
      "6 8 (-503+0j)\n",
      "6 9 (15+0j)\n",
      "6 10 (-1545+0j)\n",
      "6 11 (1629+0j)\n",
      "6 12 (1817+0j)\n",
      "6 13 (-1117+0j)\n",
      "6 14 (-1461+0j)\n",
      "6 15 (-817+0j)\n",
      "7 0 (-61+0j)\n",
      "7 1 (237+0j)\n",
      "7 2 (2841+0j)\n",
      "7 3 (373+0j)\n",
      "7 4 (-185+0j)\n",
      "7 5 (931+0j)\n",
      "7 6 (-335+0j)\n",
      "7 7 (573+0j)\n",
      "7 8 (-1925+0j)\n",
      "7 9 (-813+0j)\n",
      "7 10 (-1017+0j)\n",
      "7 11 (-1369+0j)\n",
      "7 12 (-281+0j)\n",
      "7 13 (487+0j)\n",
      "7 14 (451+0j)\n",
      "7 15 (-1083+0j)\n",
      "8 0 (439+0j)\n",
      "8 1 (-1523+0j)\n",
      "8 2 (-511+0j)\n",
      "8 3 (-1731+0j)\n",
      "8 4 (1253+0j)\n",
      "8 5 (37+0j)\n",
      "8 6 (277+0j)\n",
      "8 7 (-673+0j)\n",
      "8 8 (269+0j)\n",
      "8 9 (141+0j)\n",
      "8 10 (-945+0j)\n",
      "8 11 (-2643+0j)\n",
      "8 12 (873+0j)\n",
      "8 13 (169+0j)\n",
      "8 14 (-947+0j)\n",
      "8 15 (215+0j)\n",
      "9 0 (-873+0j)\n",
      "9 1 (513+0j)\n",
      "9 2 (407+0j)\n",
      "9 3 (-1429+0j)\n",
      "9 4 (1241+0j)\n",
      "9 5 (-797+0j)\n",
      "9 6 (-871+0j)\n",
      "9 7 (-665+0j)\n",
      "9 8 (-1351+0j)\n",
      "9 9 (-1923+0j)\n",
      "9 10 (2323+0j)\n",
      "9 11 (-11+0j)\n",
      "9 12 (467+0j)\n",
      "9 13 (-247+0j)\n",
      "9 14 (-377+0j)\n",
      "9 15 (461+0j)\n",
      "10 0 (-1565+0j)\n",
      "10 1 (-165+0j)\n",
      "10 2 (987+0j)\n",
      "10 3 (1147+0j)\n",
      "10 4 (1367+0j)\n",
      "10 5 (1453+0j)\n",
      "10 6 (-343+0j)\n",
      "10 7 (-1199+0j)\n",
      "10 8 (425+0j)\n",
      "10 9 (1077+0j)\n",
      "10 10 (105+0j)\n",
      "10 11 (565+0j)\n",
      "10 12 (9+0j)\n",
      "10 13 (-1725+0j)\n",
      "10 14 (-1527+0j)\n",
      "10 15 (-259+0j)\n",
      "11 0 (-1227+0j)\n",
      "11 1 (-1325+0j)\n",
      "11 2 (743+0j)\n",
      "11 3 (-1517+0j)\n",
      "11 4 (-323+0j)\n",
      "11 5 (1059+0j)\n",
      "11 6 (1233+0j)\n",
      "11 7 (571+0j)\n",
      "11 8 (-547+0j)\n",
      "11 9 (279+0j)\n",
      "11 10 (-479+0j)\n",
      "11 11 (1855+0j)\n",
      "11 12 (-85+0j)\n",
      "11 13 (1665+0j)\n",
      "11 14 (-773+0j)\n",
      "11 15 (1127+0j)\n",
      "12 0 (305+0j)\n",
      "12 1 (793+0j)\n",
      "12 2 (-27+0j)\n",
      "12 3 (-973+0j)\n",
      "12 4 (1781+0j)\n",
      "12 5 (429+0j)\n",
      "12 6 (1539+0j)\n",
      "12 7 (-455+0j)\n",
      "12 8 (-403+0j)\n",
      "12 9 (1393+0j)\n",
      "12 10 (455+0j)\n",
      "12 11 (635+0j)\n",
      "12 12 (435+0j)\n",
      "12 13 (183+0j)\n",
      "12 14 (2087+0j)\n",
      "12 15 (-1609+0j)\n",
      "13 0 (905+0j)\n",
      "13 1 (1575+0j)\n",
      "13 2 (-161+0j)\n",
      "13 3 (911+0j)\n",
      "13 4 (-37+0j)\n",
      "13 5 (1177+0j)\n",
      "13 6 (2241+0j)\n",
      "13 7 (-873+0j)\n",
      "13 8 (507+0j)\n",
      "13 9 (-1807+0j)\n",
      "13 10 (251+0j)\n",
      "13 11 (-189+0j)\n",
      "13 12 (155+0j)\n",
      "13 13 (733+0j)\n",
      "13 14 (-1223+0j)\n",
      "13 15 (75+0j)\n",
      "14 0 (-525+0j)\n",
      "14 1 (1499+0j)\n",
      "14 2 (1079+0j)\n",
      "14 3 (-851+0j)\n",
      "14 4 (-111+0j)\n",
      "14 5 (-1797+0j)\n",
      "14 6 (37+0j)\n",
      "14 7 (9+0j)\n",
      "14 8 (1353+0j)\n",
      "14 9 (1365+0j)\n",
      "14 10 (357+0j)\n",
      "14 11 (-657+0j)\n",
      "14 12 (-1437+0j)\n",
      "14 13 (1213+0j)\n",
      "14 14 (-1493+0j)\n",
      "14 15 (-921+0j)\n",
      "15 0 (-919+0j)\n",
      "15 1 (-1509+0j)\n",
      "15 2 (-285+0j)\n",
      "15 3 (1559+0j)\n",
      "15 4 (465+0j)\n",
      "15 5 (-2289+0j)\n",
      "15 6 (1513+0j)\n",
      "15 7 (-575+0j)\n",
      "15 8 (-887+0j)\n",
      "15 9 (-743+0j)\n",
      "15 10 (-529+0j)\n",
      "15 11 (381+0j)\n",
      "15 12 (-449+0j)\n",
      "15 13 (141+0j)\n",
      "15 14 (-323+0j)\n",
      "15 15 (-1441+0j)\n"
     ]
    }
   ],
   "source": [
    "\n",
    "# Specify key parameters:\n",
    "epsilon = 0.05\n",
    "delta = 0.01\n",
    "\n",
    "\n",
    "# Generate the superoperator and the dictionaries\n",
    "\n",
    "ugate = UnitaryGate(U, label=\"U\")\n",
    "\n",
    "shots = 0\n",
    "jw_list = generate_jw_list_pauli(n)\n",
    "str_list = generate_binary_strings(2*n, 1)\n",
    "\n",
    "\n",
    "R = np.zeros((2*n, 2*n),dtype = 'complex128')\n",
    "\n",
    "for x in range(2*n):\n",
    "    for y in range(2*n):\n",
    "\n",
    "        jobs_dict = {}\n",
    "        circuit_dict = {}\n",
    "        phase_dict = {}\n",
    "\n",
    "        # Input iterated binary string \n",
    "        s_pair = str_list[x], str_list[y]\n",
    "\n",
    "        # Process the input string into pauli + phase\n",
    "        input_pauli = string_to_pauli(jw_list, s_pair[1])\n",
    "        input_phase = input_pauli.phase\n",
    "        input_pauli.phase = 0\n",
    "        i_string = str(input_pauli)\n",
    "\n",
    "        # Process the output string into pauli + phase\n",
    "        output_pauli = string_to_pauli(jw_list, s_pair[0]).adjoint()\n",
    "        output_phase = output_pauli.phase\n",
    "        output_pauli.phase = 0\n",
    "        j_string = str(output_pauli)\n",
    "\n",
    "        phase = (-1j) ** (input_phase + output_phase)\n",
    "\n",
    "        n_sample = int(np.ceil(2 * np.log(2 / delta) / ( epsilon ** 2)))\n",
    "\n",
    "        tr = 0\n",
    "\n",
    "        for _m in range(n_sample):\n",
    "\n",
    "            # Create the quantum circuit\n",
    "            qci = QuantumCircuit(n,n)\n",
    "            lamb = 1\n",
    "            qci_identifier = s_pair\n",
    "            qci_key = \"\"\n",
    "\n",
    "            # INITIALISE THE CIRCUIT IN PAULI EIGENSTATE\n",
    "            # Apply the cliffords to the circuit according to the input. \n",
    "            # This prepares an eigenstate of the pauli & stores the eigenvalue as lamb\n",
    "            # NOTE: The indices are reversed due to the Qiskit Convention, so q_(n-1) represents the first qubit and q_0 the last \n",
    "            for i in range(len(i_string)):\n",
    "                prob = random.randint(0,1)\n",
    "                if prob == 0:\n",
    "                    qci_key += \"0\"\n",
    "                else:\n",
    "                    qci_key += \"1\"\n",
    "\n",
    "                if i_string[i] == 'I':\n",
    "                    if prob == 0:\n",
    "                        qci.id(n-1-i)\n",
    "                    else: \n",
    "                        qci.x(n-1-i)\n",
    "                elif i_string[i] == 'Z':\n",
    "                    if prob == 0:\n",
    "                        qci.x(n-1-i)\n",
    "                        lamb = lamb * -1\n",
    "                    else:\n",
    "                        qci.id(n-1-i)\n",
    "                elif i_string[i] == 'X':\n",
    "                    if prob == 0:\n",
    "                        qci.h(n-1-i)\n",
    "                    else:\n",
    "                        qci.x(n-1-i)\n",
    "                        qci.h(n-1-i)\n",
    "                        lamb = lamb * -1\n",
    "                elif i_string[i] == 'Y':\n",
    "                    if prob == 0:\n",
    "                        qci.h(n-1-i)\n",
    "                        qci.s(n-1-i)\n",
    "                    else:\n",
    "                        qci.x(n-1-i)\n",
    "                        qci.h(n-1-i)\n",
    "                        qci.s(n-1-i)\n",
    "                        lamb = lamb * -1\n",
    "\n",
    "            # APPEND THE UNITARY GATE TO INPUT STATE\n",
    "            qci.barrier()\n",
    "            qci.append(ugate, list(range(n)))\n",
    "            qci.barrier()\n",
    "\n",
    "            # MEASURE THE OUTPUT IN PAULI BASIS\n",
    "            # Apply the cliffords to the circuit according to the output string. This will give measurements in the pauli basis\n",
    "            for j in range(len(j_string)):\n",
    "                if j_string[j] == \"I\" or j_string[j] == \"Z\":\n",
    "                    qci.id(n-1-j)\n",
    "                elif j_string[j] == \"X\":\n",
    "                    qci.h(n-1-j)\n",
    "                elif j_string[j] == \"Y\":\n",
    "                    qci.sdg(n-1-j)\n",
    "                    qci.h(n-1-j)\n",
    "\n",
    "            for j in range(len(j_string)):\n",
    "                if j_string[j] == 'X' or j_string[j] == 'Y' or j_string[j] == 'Z':\n",
    "                    qci.measure(n-1-j, n-1-j)\n",
    "\n",
    "            qci_identifier += (qci_key,)\n",
    "\n",
    "            if qci_identifier not in jobs_dict:\n",
    "                jobs_dict[qci_identifier] = 1\n",
    "                phase_dict[qci_identifier] = (lamb * phase)\n",
    "                circuit_dict[qci_identifier] = qci\n",
    "            elif qci_identifier in jobs_dict:\n",
    "                jobs_dict[qci_identifier] += 1\n",
    "            \n",
    "            shots += 1\n",
    "\n",
    "        for qci_identifier in jobs_dict:\n",
    "            simulator = Aer.get_backend('aer_simulator')\n",
    "            job = execute(circuit_dict[qci_identifier], backend=simulator, shots=jobs_dict[qci_identifier])\n",
    "            result = job.result()\n",
    "            counts = result.get_counts()\n",
    "            for strings in counts:\n",
    "                tr += (-1)**strings.count('1') * phase_dict[qci_identifier] * counts[strings]\n",
    "\n",
    "        print(x, y, tr)\n",
    "        R[x,y] = tr / n_sample\n",
    "\n",
    "\n"
   ]
  },
  {
   "cell_type": "markdown",
   "metadata": {},
   "source": [
    "The code has been optimised to 'batch' circuit simulations together, to reduce the number of calls to the backend.\n",
    "\n",
    "After getting an estimate $\\tilde{R}$ of $R$, we repeat the previous calculations to find $\\tilde{U}$, the estimated unitary:"
   ]
  },
  {
   "cell_type": "code",
   "execution_count": 263,
   "metadata": {},
   "outputs": [],
   "source": [
    "jwlist = generate_jw_list(n)\n",
    "log_x = scipy.linalg.logm(R) / 4\n",
    "\n",
    "quadh = np.zeros((2**n, 2**n))\n",
    "for i in range(len(log_x)):\n",
    "    for j in range(len(log_x)):\n",
    "        if i != j:\n",
    "            quadh = quadh + ( jwlist[i] @ jwlist[j] ) * log_x[i][j] * 1j\n",
    "\n",
    "U_calc = scipy.linalg.expm(-1j * quadh)"
   ]
  },
  {
   "cell_type": "markdown",
   "metadata": {},
   "source": [
    "We now find the determinant of $R$, the $L2$ norm of $U - \\tilde{U}$ and $R - \\tilde{R}$, as well as the determinant norm $\\sqrt{\\det | \\tilde{U} - U |}$."
   ]
  },
  {
   "cell_type": "code",
   "execution_count": 274,
   "metadata": {},
   "outputs": [
    {
     "data": {
      "text/plain": [
       "(0.9529342673428604+0j)"
      ]
     },
     "execution_count": 274,
     "metadata": {},
     "output_type": "execute_result"
    }
   ],
   "source": [
    "np.linalg.det(R)"
   ]
  },
  {
   "cell_type": "code",
   "execution_count": 269,
   "metadata": {},
   "outputs": [
    {
     "data": {
      "text/plain": [
       "0.1403613541679722"
      ]
     },
     "execution_count": 269,
     "metadata": {},
     "output_type": "execute_result"
    }
   ],
   "source": [
    "np.linalg.norm(U-U_calc, ord=2)"
   ]
  },
  {
   "cell_type": "code",
   "execution_count": 270,
   "metadata": {},
   "outputs": [
    {
     "data": {
      "text/plain": [
       "0.11638962485943251"
      ]
     },
     "execution_count": 270,
     "metadata": {},
     "output_type": "execute_result"
    }
   ],
   "source": [
    "np.linalg.norm(R-S, ord=2)"
   ]
  },
  {
   "cell_type": "code",
   "execution_count": 268,
   "metadata": {},
   "outputs": [
    {
     "data": {
      "text/plain": [
       "0j"
      ]
     },
     "execution_count": 268,
     "metadata": {},
     "output_type": "execute_result"
    }
   ],
   "source": [
    "np.sqrt(np.linalg.det(U-U_calc))"
   ]
  },
  {
   "cell_type": "markdown",
   "metadata": {},
   "source": [
    "The actual and estimated matrices $R$, $U$ are printed below:"
   ]
  },
  {
   "cell_type": "code",
   "execution_count": 271,
   "metadata": {},
   "outputs": [
    {
     "data": {
      "text/latex": [
       "$$\n",
       "\n",
       "\\begin{bmatrix}\n",
       "-0.0353489002 & 0.0792352297 & 0.2714435506 & 0.1708528251 & \\cdots & -0.205743316 & 0.0985083203 & 0.4814990567  \\\\\n",
       " -0.0582227269 & 0.0818636134 & -0.2720811767 & 0.2550603234 & \\cdots & 0.1935713535 & -0.2338590376 & -0.0393433709  \\\\\n",
       " 0.0228649173 & 0.3215790814 & -0.1554035759 & 0.0324730799 & \\cdots & 0.0415325271 & 0.0391022891 & 0.4660776249  \\\\\n",
       " -0.6572935986 & 0.2942828926 & -0.0751102817 & -0.0318710141 & \\cdots & 0.0189292131 & 0.2925103191 & 0.0272111289  \\\\\n",
       " \\vdots & \\vdots & \\vdots & \\vdots & \\ddots & \\vdots & \\vdots & \\vdots \\\\\n",
       " 0.2291349468 & 0.3802340733 & -0.0274469909 & 0.2082216659 & \\cdots & 0.177572351 & -0.3006087228 & 0.0265846616  \\\\\n",
       " -0.1223960491 & 0.3345950352 & 0.2590569453 & -0.1997202266 & \\cdots & \\frac{2^{\\frac{175}{209}} \\cdot 3^{\\frac{241}{836}} \\cdot 5^{\\frac{112}{209}} \\cdot 7^{\\frac{19}{22}}}{105} & -0.3495905972 & -0.209572007  \\\\\n",
       " -0.2096426555 & -0.3995231364 & -0.0782933468 & 0.3509655769 & \\cdots & 0.0326096433 & -0.0678127224 & -0.3295994134  \\\\\n",
       " \\end{bmatrix}\n",
       "$$"
      ],
      "text/plain": [
       "<IPython.core.display.Latex object>"
      ]
     },
     "execution_count": 271,
     "metadata": {},
     "output_type": "execute_result"
    }
   ],
   "source": [
    "array_to_latex(S)"
   ]
  },
  {
   "cell_type": "code",
   "execution_count": 272,
   "metadata": {},
   "outputs": [
    {
     "data": {
      "text/latex": [
       "$$\n",
       "\n",
       "\\begin{bmatrix}\n",
       "-0.0261854211 & 0.0705355037 & 0.2701108752 & 0.1696154753 & \\cdots & -0.1866006134 & 0.07336636 & 0.5064873791  \\\\\n",
       " -0.028544468 & 0.0898796886 & -0.288039632 & 0.2460485964 & \\cdots & 0.1993394669 & -0.2243453645 & -0.039396084  \\\\\n",
       " 0.0346779901 & 0.3045529606 & -0.1479122435 & 0.0493040812 & \\cdots & 0.0445859873 & 0.0261854211 & 0.4739325313  \\\\\n",
       " -0.6400094362 & 0.2932295353 & -0.0738381694 & -0.0058976174 & \\cdots & 0.0351497995 & 0.2833215381 & 0.0323189431  \\\\\n",
       " \\vdots & \\vdots & \\vdots & \\vdots & \\ddots & \\vdots & \\vdots & \\vdots \\\\\n",
       " 0.2134937485 & 0.3715498938 & -0.0379806558 & 0.2149091767 & \\cdots & 0.1729181411 & -0.2885114414 & 0.0176928521  \\\\\n",
       " -0.1238499646 & 0.3536211371 & 0.2545411654 & -0.200754895 & \\cdots & 0.2861523944 & -0.3522057089 & -0.2172682236  \\\\\n",
       " -0.2167964142 & -0.355980184 & -0.0672328379 & 0.3677754187 & \\cdots & 0.0332625619 & -0.0761972163 & -0.3399386648  \\\\\n",
       " \\end{bmatrix}\n",
       "$$"
      ],
      "text/plain": [
       "<IPython.core.display.Latex object>"
      ]
     },
     "execution_count": 272,
     "metadata": {},
     "output_type": "execute_result"
    }
   ],
   "source": [
    "array_to_latex(R)"
   ]
  },
  {
   "cell_type": "code",
   "execution_count": 273,
   "metadata": {},
   "outputs": [
    {
     "data": {
      "text/latex": [
       "$$\n",
       "\n",
       "\\begin{bmatrix}\n",
       "-0.0091634792 & 0.008699726 & 0.0013326754 & 0.0012373498 & \\cdots & -0.0191427026 & 0.0251419603 & -0.0249883224  \\\\\n",
       " -0.0296782588 & -0.0080160752 & 0.0159584553 & 0.0090117271 & \\cdots & -0.0057681133 & -0.0095136731 & 5.27131 \\cdot 10^{-5}  \\\\\n",
       " -0.0118130728 & 0.0170261208 & -0.0074913324 & -0.0168310012 & \\cdots & -0.0030534602 & 0.012916868 & -0.0078549063  \\\\\n",
       " -0.0172841624 & 0.0010533574 & -0.0012721123 & -0.0259733967 & \\cdots & -0.0162205863 & 0.009188781 & -0.0051078143  \\\\\n",
       " \\vdots & \\vdots & \\vdots & \\vdots & \\ddots & \\vdots & \\vdots & \\vdots \\\\\n",
       " 0.0156411983 & 0.0086841794 & 0.0105336649 & -0.0066875107 & \\cdots & 0.0046542099 & -0.0120972815 & 0.0088918095  \\\\\n",
       " 0.0014539156 & -0.0190261019 & 0.00451578 & 0.0010346684 & \\cdots & 0.0109031713 & 0.0026151117 & 0.0076962167  \\\\\n",
       " 0.0071537588 & -0.0435429524 & -0.0110605088 & -0.0168098418 & \\cdots & -0.0006529187 & 0.0083844939 & 0.0103392514  \\\\\n",
       " \\end{bmatrix}\n",
       "$$"
      ],
      "text/plain": [
       "<IPython.core.display.Latex object>"
      ]
     },
     "execution_count": 273,
     "metadata": {},
     "output_type": "execute_result"
    }
   ],
   "source": [
    "array_to_latex(S- R)"
   ]
  },
  {
   "cell_type": "code",
   "execution_count": 197,
   "metadata": {},
   "outputs": [
    {
     "data": {
      "text/latex": [
       "$$\n",
       "\n",
       "\\begin{bmatrix}\n",
       "0.085782134 + 0.1580988232 i & 0 & 0 & -0.1015427055 + 0.1137758971 i & \\cdots & 0 & 0 & 0.0236538191 - 0.0068668929 i  \\\\\n",
       " 0 & 0.01206567 + 0.0169209944 i & 0.012716867 - 0.0638187389 i & 0 & \\cdots & -0.0483274473 - 0.1027653405 i & -0.0673504577 - 0.004252359 i & 0  \\\\\n",
       " 0 & 0.0639758507 - 0.0811963186 i & -0.1304274494 + 0.1792301137 i & 0 & \\cdots & 0.0138846109 + 0.0381784638 i & -0.0468688498 - 0.0049108841 i & 0  \\\\\n",
       " -0.0403997694 - 0.0021521033 i & 0 & 0 & 0.0142808602 - 0.018241405 i & \\cdots & 0 & 0 & 0.0406858004 - 0.1009834099 i  \\\\\n",
       " \\vdots & \\vdots & \\vdots & \\vdots & \\ddots & \\vdots & \\vdots & \\vdots \\\\\n",
       " 0 & 0.0468688498 - 0.0049108841 i & 0.0138846109 - 0.0381784638 i & 0 & \\cdots & -0.1304274494 - 0.1792301137 i & -0.0639758507 - 0.0811963186 i & 0  \\\\\n",
       " 0 & -0.0673504577 + 0.004252359 i & 0.0483274473 - 0.1027653405 i & 0 & \\cdots & -0.012716867 - 0.0638187389 i & 0.01206567 - 0.0169209944 i & 0  \\\\\n",
       " 0.0236538191 + 0.0068668929 i & 0 & 0 & 0.0822103064 + 0.0370836985 i & \\cdots & 0 & 0 & 0.085782134 - 0.1580988232 i  \\\\\n",
       " \\end{bmatrix}\n",
       "$$"
      ],
      "text/plain": [
       "<IPython.core.display.Latex object>"
      ]
     },
     "execution_count": 197,
     "metadata": {},
     "output_type": "execute_result"
    }
   ],
   "source": [
    "array_to_latex(U_calc)"
   ]
  },
  {
   "cell_type": "code",
   "execution_count": 202,
   "metadata": {},
   "outputs": [
    {
     "data": {
      "text/latex": [
       "$$\n",
       "\n",
       "\\begin{bmatrix}\n",
       "-0.1284332981 - 0.0969953946 i & 0 & 0 & 0.0714840512 - 0.2225227628 i & \\cdots & 0 & 0 & -0.0460325656 + 0.0078366583 i  \\\\\n",
       " 0 & 0.0235343706 + 0.0196642158 i & -0.0742377113 + 0.109463772 i & 0 & \\cdots & 0.0897080967 + 0.1336342155 i & \\frac{2^{\\frac{44}{243}} \\cdot 3^{\\frac{157}{162}} \\cdot 5^{\\frac{77}{81}} \\cdot 7^{\\frac{49}{81}}}{450} - \\frac{2^{\\frac{19}{23}} \\cdot 3^{\\frac{342}{575}} \\cdot 5^{\\frac{172}{575}} \\cdot 7^{\\frac{132}{575}} i}{315} & 0  \\\\\n",
       " 0 & -0.1814304782 + 0.0499294192 i & 0.1369570449 - 0.3054868789 i & 0 & \\cdots & -0.0393024006 - 0.06300671 i & 0.0814911713 - 0.0259796269 i & 0  \\\\\n",
       " 0.08472088 + 0.0458982942 i & 0 & 0 & -0.0879004654 + 0.07579032 i & \\cdots & 0 & 0 & -0.0090716622 + 0.1476100446 i  \\\\\n",
       " \\vdots & \\vdots & \\vdots & \\vdots & \\ddots & \\vdots & \\vdots & \\vdots \\\\\n",
       " 0 & -0.0814911713 - 0.0259796269 i & -0.0393024006 + 0.06300671 i & 0 & \\cdots & 0.1369570449 + 0.3054868789 i & 0.1814304782 + 0.0499294192 i & 0  \\\\\n",
       " 0 & \\frac{2^{\\frac{44}{243}} \\cdot 3^{\\frac{157}{162}} \\cdot 5^{\\frac{77}{81}} \\cdot 7^{\\frac{49}{81}}}{450} + \\frac{2^{\\frac{19}{23}} \\cdot 3^{\\frac{342}{575}} \\cdot 5^{\\frac{172}{575}} \\cdot 7^{\\frac{132}{575}} i}{315} & -0.0897080967 + 0.1336342155 i & 0 & \\cdots & 0.0742377113 + 0.109463772 i & 0.0235343706 - 0.0196642158 i & 0  \\\\\n",
       " -0.0460325656 - 0.0078366583 i & 0 & 0 & -0.1276280432 - 0.0787213202 i & \\cdots & 0 & 0 & -0.1284332981 + 0.0969953946 i  \\\\\n",
       " \\end{bmatrix}\n",
       "$$"
      ],
      "text/plain": [
       "<IPython.core.display.Latex object>"
      ]
     },
     "execution_count": 202,
     "metadata": {},
     "output_type": "execute_result"
    }
   ],
   "source": [
    "array_to_latex(U - U_calc)"
   ]
  }
 ],
 "metadata": {
  "kernelspec": {
   "display_name": ".venv",
   "language": "python",
   "name": "python3"
  },
  "language_info": {
   "codemirror_mode": {
    "name": "ipython",
    "version": 3
   },
   "file_extension": ".py",
   "mimetype": "text/x-python",
   "name": "python",
   "nbconvert_exporter": "python",
   "pygments_lexer": "ipython3",
   "version": "3.11.5"
  }
 },
 "nbformat": 4,
 "nbformat_minor": 2
}
