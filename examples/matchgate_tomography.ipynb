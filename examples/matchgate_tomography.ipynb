{
 "cells": [
  {
   "cell_type": "code",
   "execution_count": 18,
   "metadata": {},
   "outputs": [],
   "source": [
    "import numpy as np\n",
    "import scipy\n",
    "import random\n",
    "import qiskit \n",
    "from qiskit import QuantumCircuit, transpile\n",
    "from qiskit_aer import Aer, AerSimulator\n",
    "from qiskit.circuit.library import UnitaryGate\n",
    "from qiskit.visualization import array_to_latex\n",
    "from mgbenchmark.main import mg_unitary_to_so, generate_jw_list, generate_jw_basis, unitary_to_superoperator, compound_matrix, mg_so_to_superoperator\n",
    "from mgbenchmark.utils import generate_binary_strings, superop_to_dictionaries, dictionary_to_distribution, string_to_pauli, generate_jw_list_pauli, generate_jw_list"
   ]
  },
  {
   "cell_type": "markdown",
   "metadata": {},
   "source": [
    "## Efficient Matchgate Tomography\n",
    "\n",
    "Below is a demo for performing efficient matchgate tomography, as discussed in section VI of [our paper](https://arxiv.org/abs/2404.07974). It is a simple implementation of steps 3-5 of the algorithm to calculate matrix elements $R$, which then determine the matchgate unitary $U$.\n",
    "\n",
    "It is equivalent to an implementation of the FLO (Fermionic Linear Optics) tomography algorithm of [Oszmaniec, Dangniam, Morales and Zimboras](https://arxiv.org/abs/2012.15825) who proved that $\\mathcal{O}(n^3 \\log n)$ repetitions suffice to correctly reconstruct the unitary $U$.\n",
    "\n",
    "\n"
   ]
  },
  {
   "cell_type": "markdown",
   "metadata": {},
   "source": [
    "We start off by generating a random $R \\in SO(2n)$ matrix using the Haar Measure. We then calculate its quadratic hamiltonian elements\n",
    "\n",
    "$h_{ij} = \\frac{1}{4} \\log(R)_{ij}$\n",
    "\n",
    "and from that, find the quadratic Hamiltonian:\n",
    "\n",
    "$H = i \\sum_{i \\neq j} h_{i j} c_i c_j$.\n",
    "\n",
    "($c_i$ are the Clifford Algebra generators in the Jordan-Wigner basis). \n",
    "\n",
    "We then find the corresponding unitary:\n",
    "\n",
    "$U = e^{-iH}$"
   ]
  },
  {
   "cell_type": "code",
   "execution_count": 3,
   "metadata": {},
   "outputs": [],
   "source": [
    "n=4\n",
    "jwlist = generate_jw_list(n)\n",
    "S = scipy.stats.special_ortho_group.rvs(2*n)\n",
    "log_x = scipy.linalg.logm(S) / 4\n",
    "\n",
    "quadh = np.zeros((2**n, 2**n))\n",
    "for i in range(len(log_x)):\n",
    "    for j in range(len(log_x)):\n",
    "        if i != j:\n",
    "            quadh = quadh + ( jwlist[i] @ jwlist[j] ) * log_x[i][j] * 1j\n",
    "\n",
    "U = scipy.linalg.expm(-1j * quadh)\n"
   ]
  },
  {
   "cell_type": "markdown",
   "metadata": {},
   "source": [
    "Below is code (adapted from the matchgate benchmarking demo) to estimate the matrix elements\n",
    "\n",
    "$R_{ij} = \\frac{1}{2^n} \\text{Tr}(c_i^\\dagger U c_j U^\\dagger)$.\n",
    "\n",
    "Each matrix element is estimated using $ \\lceil n \\ln (n / \\delta) / \\epsilon^2 \\rceil$ shots, where $\\epsilon$ is the precision and $\\delta$ the failure probability.\n",
    "\n",
    "This is carried out $4n^2$ times, giving a total number of shots of $4n^3 \\lceil \\ln (n / \\delta) / \\epsilon^2 \\rceil $."
   ]
  },
  {
   "cell_type": "code",
   "execution_count": 6,
   "metadata": {},
   "outputs": [
    {
     "name": "stdout",
     "output_type": "stream",
     "text": [
      "1.5625 % complete\n",
      "3.125 % complete\n",
      "4.6875 % complete\n",
      "6.25 % complete\n",
      "7.8125 % complete\n",
      "9.375 % complete\n",
      "10.9375 % complete\n",
      "12.5 % complete\n",
      "14.0625 % complete\n",
      "15.625 % complete\n",
      "17.1875 % complete\n",
      "18.75 % complete\n",
      "20.3125 % complete\n",
      "21.875 % complete\n",
      "23.4375 % complete\n",
      "25.0 % complete\n",
      "26.5625 % complete\n",
      "28.125 % complete\n",
      "29.6875 % complete\n",
      "31.25 % complete\n",
      "32.8125 % complete\n",
      "34.375 % complete\n",
      "35.9375 % complete\n",
      "37.5 % complete\n",
      "39.0625 % complete\n",
      "40.625 % complete\n",
      "42.1875 % complete\n",
      "43.75 % complete\n",
      "45.3125 % complete\n",
      "46.875 % complete\n",
      "48.4375 % complete\n",
      "50.0 % complete\n",
      "51.5625 % complete\n",
      "53.125 % complete\n",
      "54.6875 % complete\n",
      "56.25 % complete\n",
      "57.8125 % complete\n",
      "59.375 % complete\n",
      "60.9375 % complete\n",
      "62.5 % complete\n",
      "64.0625 % complete\n",
      "65.625 % complete\n",
      "67.1875 % complete\n",
      "68.75 % complete\n",
      "70.3125 % complete\n",
      "71.875 % complete\n",
      "73.4375 % complete\n",
      "75.0 % complete\n",
      "76.5625 % complete\n",
      "78.125 % complete\n",
      "79.6875 % complete\n",
      "81.25 % complete\n",
      "82.8125 % complete\n",
      "84.375 % complete\n",
      "85.9375 % complete\n",
      "87.5 % complete\n",
      "89.0625 % complete\n",
      "90.625 % complete\n",
      "92.1875 % complete\n",
      "93.75 % complete\n",
      "95.3125 % complete\n",
      "96.875 % complete\n",
      "98.4375 % complete\n",
      "100.0 % complete\n",
      "shots: 613568\n"
     ]
    }
   ],
   "source": [
    "# Specify key parameters:\n",
    "epsilon = 0.05\n",
    "delta = 0.01\n",
    "\n",
    "\n",
    "# Generate the superoperator and the dictionaries\n",
    "ugate = UnitaryGate(U, label=\"U\")\n",
    "\n",
    "shots = 0\n",
    "progcount = 0\n",
    "jw_list = generate_jw_list_pauli(n)\n",
    "str_list = generate_binary_strings(2*n, 1)\n",
    "\n",
    "\n",
    "R = np.zeros((2*n, 2*n),dtype = 'complex128')\n",
    "\n",
    "for x in range(2*n):\n",
    "    for y in range(2*n):\n",
    "\n",
    "        jobs_dict = {}\n",
    "        circuit_dict = {}\n",
    "        phase_dict = {}\n",
    "\n",
    "        # Input iterated binary string \n",
    "        s_pair = str_list[x], str_list[y]\n",
    "\n",
    "        # Process the input string into pauli + phase\n",
    "        input_pauli = string_to_pauli(jw_list, s_pair[1])\n",
    "        input_phase = input_pauli.phase\n",
    "        input_pauli.phase = 0\n",
    "        i_string = str(input_pauli)\n",
    "\n",
    "        # Process the output string into pauli + phase\n",
    "        output_pauli = string_to_pauli(jw_list, s_pair[0]).adjoint()\n",
    "        output_phase = output_pauli.phase\n",
    "        output_pauli.phase = 0\n",
    "        j_string = str(output_pauli)\n",
    "\n",
    "        phase = (-1j) ** (input_phase + output_phase)\n",
    "\n",
    "        n_sample = int(np.ceil(n * np.log(n / delta) / ( epsilon ** 2)))\n",
    "\n",
    "        tr = 0\n",
    "\n",
    "        for _m in range(n_sample):\n",
    "\n",
    "            # Create the quantum circuit\n",
    "            qci = QuantumCircuit(n,n)\n",
    "            lamb = 1\n",
    "            qci_identifier = s_pair\n",
    "            qci_key = \"\"\n",
    "\n",
    "            # INITIALISE THE CIRCUIT IN PAULI EIGENSTATE\n",
    "            # Apply the cliffords to the circuit according to the input. \n",
    "            # This prepares an eigenstate of the pauli & stores the eigenvalue as lamb\n",
    "            # NOTE: The indices are reversed due to the Qiskit Convention, so q_(n-1) represents the first qubit and q_0 the last \n",
    "            for i in range(len(i_string)):\n",
    "                prob = random.randint(0,1)\n",
    "                if prob == 0:\n",
    "                    qci_key += \"0\"\n",
    "                else:\n",
    "                    qci_key += \"1\"\n",
    "\n",
    "                if i_string[i] == 'I':\n",
    "                    if prob == 0:\n",
    "                        qci.id(n-1-i)\n",
    "                    else: \n",
    "                        qci.x(n-1-i)\n",
    "                elif i_string[i] == 'Z':\n",
    "                    if prob == 0:\n",
    "                        qci.x(n-1-i)\n",
    "                        lamb = lamb * -1\n",
    "                    else:\n",
    "                        qci.id(n-1-i)\n",
    "                elif i_string[i] == 'X':\n",
    "                    if prob == 0:\n",
    "                        qci.h(n-1-i)\n",
    "                    else:\n",
    "                        qci.x(n-1-i)\n",
    "                        qci.h(n-1-i)\n",
    "                        lamb = lamb * -1\n",
    "                elif i_string[i] == 'Y':\n",
    "                    if prob == 0:\n",
    "                        qci.h(n-1-i)\n",
    "                        qci.s(n-1-i)\n",
    "                    else:\n",
    "                        qci.x(n-1-i)\n",
    "                        qci.h(n-1-i)\n",
    "                        qci.s(n-1-i)\n",
    "                        lamb = lamb * -1\n",
    "\n",
    "            # APPEND THE UNITARY GATE TO INPUT STATE\n",
    "            qci.barrier()\n",
    "            qci.append(ugate, list(range(n)))\n",
    "            qci.barrier()\n",
    "\n",
    "            # MEASURE THE OUTPUT IN PAULI BASIS\n",
    "            # Apply the cliffords to the circuit according to the output string. This will give measurements in the pauli basis\n",
    "            for j in range(len(j_string)):\n",
    "                if j_string[j] == \"I\" or j_string[j] == \"Z\":\n",
    "                    qci.id(n-1-j)\n",
    "                elif j_string[j] == \"X\":\n",
    "                    qci.h(n-1-j)\n",
    "                elif j_string[j] == \"Y\":\n",
    "                    qci.sdg(n-1-j)\n",
    "                    qci.h(n-1-j)\n",
    "\n",
    "            for j in range(len(j_string)):\n",
    "                if j_string[j] == 'X' or j_string[j] == 'Y' or j_string[j] == 'Z':\n",
    "                    qci.measure(n-1-j, n-1-j)\n",
    "\n",
    "            qci_identifier += (qci_key,)\n",
    "\n",
    "            if qci_identifier not in jobs_dict:\n",
    "                jobs_dict[qci_identifier] = 1\n",
    "                phase_dict[qci_identifier] = (lamb * phase)\n",
    "                circuit_dict[qci_identifier] = qci\n",
    "            elif qci_identifier in jobs_dict:\n",
    "                jobs_dict[qci_identifier] += 1\n",
    "            \n",
    "            shots += 1\n",
    "\n",
    "        # (The code has been optimised to 'tally' circuit simulations together, to reduce the number of calls to the backend.)\n",
    "        for qci_identifier in jobs_dict:\n",
    "            simulator = Aer.get_backend('aer_simulator')\n",
    "            transpiled_circuit = transpile(circuit_dict[qci_identifier], backend=simulator)\n",
    "            job = simulator.run(transpiled_circuit, shots=jobs_dict[qci_identifier])\n",
    "            result = job.result()\n",
    "            counts = result.get_counts()\n",
    "            for strings in counts:\n",
    "                tr += (-1)**strings.count('1') * phase_dict[qci_identifier] * counts[strings]\n",
    "\n",
    "        progcount += 1\n",
    "        \n",
    "        print(progcount * 100 / (2*n)**2, \"% complete\")\n",
    "        R[x,y] = tr / n_sample\n",
    "\n",
    "print(\"shots:\", shots)\n",
    "\n"
   ]
  },
  {
   "cell_type": "markdown",
   "metadata": {},
   "source": [
    "After getting an estimate $\\tilde{R}$ of $R$, we repeat the previous calculations to find $\\tilde{U}$, the estimated unitary:"
   ]
  },
  {
   "cell_type": "code",
   "execution_count": 7,
   "metadata": {},
   "outputs": [],
   "source": [
    "jwlist = generate_jw_list(n)\n",
    "log_x = scipy.linalg.logm(R) / 4\n",
    "\n",
    "quadh = np.zeros((2**n, 2**n))\n",
    "for i in range(len(log_x)):\n",
    "    for j in range(len(log_x)):\n",
    "        if i != j:\n",
    "            quadh = quadh + ( jwlist[i] @ jwlist[j] ) * log_x[i][j] * 1j\n",
    "\n",
    "U_calc = scipy.linalg.expm(-1j * quadh)"
   ]
  },
  {
   "cell_type": "markdown",
   "metadata": {},
   "source": [
    "We now find the determinant of $R$, the $L2$ norm of $U - \\tilde{U}$ and $R - \\tilde{R}$, as well as the determinant norm $\\sqrt{\\det | \\tilde{U} - U |}$."
   ]
  },
  {
   "cell_type": "code",
   "execution_count": 9,
   "metadata": {},
   "outputs": [
    {
     "data": {
      "text/plain": [
       "(1.0344101341531569+0j)"
      ]
     },
     "execution_count": 9,
     "metadata": {},
     "output_type": "execute_result"
    }
   ],
   "source": [
    "np.linalg.det(R)"
   ]
  },
  {
   "cell_type": "code",
   "execution_count": 10,
   "metadata": {},
   "outputs": [
    {
     "data": {
      "text/plain": [
       "0.02784979556947163"
      ]
     },
     "execution_count": 10,
     "metadata": {},
     "output_type": "execute_result"
    }
   ],
   "source": [
    "np.linalg.norm(U-U_calc, ord=2)"
   ]
  },
  {
   "cell_type": "code",
   "execution_count": 11,
   "metadata": {},
   "outputs": [
    {
     "data": {
      "text/plain": [
       "0.047644325174019515"
      ]
     },
     "execution_count": 11,
     "metadata": {},
     "output_type": "execute_result"
    }
   ],
   "source": [
    "np.linalg.norm(R-S, ord=2)"
   ]
  },
  {
   "cell_type": "code",
   "execution_count": 12,
   "metadata": {},
   "outputs": [
    {
     "data": {
      "text/plain": [
       "(7.844610176163786e-18-6.749246335167192e-30j)"
      ]
     },
     "execution_count": 12,
     "metadata": {},
     "output_type": "execute_result"
    }
   ],
   "source": [
    "np.sqrt(np.linalg.det(U-U_calc))"
   ]
  },
  {
   "cell_type": "markdown",
   "metadata": {},
   "source": [
    "The true and estimated matrices $R$, $U$ are printed below:"
   ]
  },
  {
   "cell_type": "code",
   "execution_count": 13,
   "metadata": {},
   "outputs": [
    {
     "data": {
      "text/latex": [
       "$$\n",
       "\n",
       "\\begin{bmatrix}\n",
       "-0.2144865144 & -0.2939346986 & -0.022185786 & -0.1790637238 & 0.0938960552 & -0.6167532452 & -0.4025514693 & 0.5327224247  \\\\\n",
       " -0.7212463978 & -0.0451061663 & 0.0999810269 & -0.403024891 & -0.4807829235 & 0.2489350611 & 0.1101407768 & 0.0095877039  \\\\\n",
       " -0.1830979787 & 0.2983288906 & -0.3358725242 & 0.382960052 & 0.0381147768 & 0.4912145563 & -0.3577446274 & 0.4972731185  \\\\\n",
       " -0.361216935 & -0.1667554733 & -0.1454847268 & 0.1698436412 & 0.2386071143 & -0.0149174891 & -0.5474549729 & -0.6594235634  \\\\\n",
       " 0.3630116258 & -0.3567619283 & -0.4016588898 & 0.0860381886 & -0.7210464644 & -0.0071962711 & -0.2136756861 & -0.0812032226  \\\\\n",
       " 0.2666883019 & 0.4493279183 & 0.5282954693 & -0.2479678346 & - \\frac{18 \\cdot 2^{\\frac{151}{495}} \\cdot 3^{\\frac{2}{495}} \\cdot 5^{\\frac{17}{165}} \\cdot 7^{\\frac{67}{165}}}{245} & 0.037071947 & -0.5709584857 & -0.0527759279  \\\\\n",
       " -0.0978193576 & 0.6739167964 & -0.5162912468 & -0.1384445178 & -0.1197750451 & -0.4485885394 & 0.1021766868 & -0.1566083472  \\\\\n",
       " -0.2394324693 & 0.1068728769 & 0.3854254905 & 0.7361686999 & -0.3333867926 & -0.3368600672 & 0.1266577733 & -0.009458725  \\\\\n",
       " \\end{bmatrix}\n",
       "$$"
      ],
      "text/plain": [
       "<IPython.core.display.Latex object>"
      ]
     },
     "execution_count": 13,
     "metadata": {},
     "output_type": "execute_result"
    }
   ],
   "source": [
    "array_to_latex(S)"
   ]
  },
  {
   "cell_type": "code",
   "execution_count": 14,
   "metadata": {},
   "outputs": [
    {
     "data": {
      "text/latex": [
       "$$\n",
       "\n",
       "\\begin{bmatrix}\n",
       "-0.2170647752 & -0.2957129446 & -0.0297277563 & -0.1601126526 & 0.0939814332 & -0.6046729947 & -0.4108688849 & 0.5312402211  \\\\\n",
       " -0.7150307708 & -0.0341086888 & 0.1258996558 & -0.3902159174 & -0.4615625326 & 0.2527380828 & 0.1250651924 & 0.0117867946  \\\\\n",
       " -0.1824345468 & 0.2892458538 & -0.3345154897 & 0.4021070199 & 0.0441222489 & 0.4947324502 & -0.3885469907 & 0.5028684677  \\\\\n",
       " -0.3628872431 & -0.1709606759 & -0.1438406175 & 0.1838948576 & 0.2350057369 & -0.0144988005 & -0.541462397 & -0.6783143841  \\\\\n",
       " 0.3595493898 & -0.3566287681 & -0.4089913424 & 0.0973192865 & -0.7269218734 & 0.0001043079 & -0.2220715552 & -0.0739543131  \\\\\n",
       " 0.2754772087 & 0.4423698759 & 0.5239386669 & -0.2468968395 & -0.2289558778 & 0.0445394805 & -0.5746323146 & -0.0464170231  \\\\\n",
       " -0.1048294566 & 0.6697611349 & -0.5297799103 & -0.15322833 & -0.1121310107 & -0.4623969959 & 0.0952331282 & -0.1690831334  \\\\\n",
       " -0.256284552 & 0.1056639199 & \\frac{4302592 \\cdot 2^{\\frac{23}{103}} \\cdot 3^{\\frac{90}{103}} \\cdot 5^{\\frac{31}{103}} \\cdot 7^{\\frac{6}{103}}}{61509375} & 0.7369354334 & -0.3376447272 & -0.3320120997 & 0.1367476791 & -0.0069886304  \\\\\n",
       " \\end{bmatrix}\n",
       "$$"
      ],
      "text/plain": [
       "<IPython.core.display.Latex object>"
      ]
     },
     "execution_count": 14,
     "metadata": {},
     "output_type": "execute_result"
    }
   ],
   "source": [
    "array_to_latex(R)"
   ]
  },
  {
   "cell_type": "code",
   "execution_count": 15,
   "metadata": {},
   "outputs": [
    {
     "data": {
      "text/latex": [
       "$$\n",
       "\n",
       "\\begin{bmatrix}\n",
       "0.0025782608 & 0.001778246 & 0.0075419703 & -0.0189510712 & -8.5378 \\cdot 10^{-5} & -0.0120802505 & 0.0083174156 & 0.0014822035  \\\\\n",
       " -0.006215627 & -0.0109974774 & - \\frac{125 \\cdot 2^{\\frac{57}{131}} \\cdot 3^{\\frac{249}{262}} \\cdot 5^{\\frac{62}{131}} \\cdot 7^{\\frac{116}{131}}}{222264} & -0.0128089736 & -0.0192203909 & -0.0038030217 & -0.0149244157 & -0.0021990907  \\\\\n",
       " -0.0006634319 & 0.0090830368 & -0.0013570345 & -0.0191469679 & -0.0060074721 & -0.0035178939 & 0.0308023633 & -0.0055953493  \\\\\n",
       " 0.0016703082 & 0.0042052026 & -0.0016441093 & -0.0140512164 & 0.0036013774 & -0.0004186887 & -0.0059925759 & 0.0188908206  \\\\\n",
       " 0.003462236 & -0.0001331602 & 0.0073324526 & -0.0112810979 & 0.0058754089 & -0.007300579 & 0.0083958691 & -0.0072489095  \\\\\n",
       " -0.0087889068 & 0.0069580424 & 0.0043568024 & -0.0010709952 & -0.0082031435 & -0.0074675336 & 0.0036738289 & -0.0063589049  \\\\\n",
       " 0.0070100989 & 0.0041556615 & 0.0134886635 & 0.0147838122 & -0.0076440344 & 0.0138084565 & 0.0069435586 & 0.0124747862  \\\\\n",
       " 0.0168520827 & 0.001208957 & -0.0022870369 & -0.0007667335 & 0.0042579347 & -0.0048479675 & - \\frac{2 \\cdot 2^{\\frac{155}{384}} \\cdot 3^{\\frac{109}{384}} \\cdot 5^{\\frac{45}{128}} \\cdot 7^{\\frac{247}{384}}}{2205} & -0.0024700946  \\\\\n",
       " \\end{bmatrix}\n",
       "$$"
      ],
      "text/plain": [
       "<IPython.core.display.Latex object>"
      ]
     },
     "execution_count": 15,
     "metadata": {},
     "output_type": "execute_result"
    }
   ],
   "source": [
    "array_to_latex(S- R)"
   ]
  },
  {
   "cell_type": "code",
   "execution_count": 16,
   "metadata": {},
   "outputs": [
    {
     "data": {
      "text/latex": [
       "$$\n",
       "\n",
       "\\begin{bmatrix}\n",
       "-0.2480040419 + 0.1946836008 i & 0 & 0 & -0.2901507075 - 0.2484646128 i & 0 & 0.1427363154 - 0.1118650677 i & -0.6147139655 - 0.1283494205 i & 0 & 0 & -0.06814351 + 0.0465510086 i & -0.0874732861 - 0.3415824078 i & 0 & 0.2847472075 + 0.1246135549 i & 0 & 0 & -0.2889736478 + 0.1272005532 i  \\\\\n",
       " 0 & -0.2464212398 + 0.1284880137 i & 0.5492870022 - 0.0287896239 i & 0 & -0.0238601521 - 0.2124849282 i & 0 & 0 & 0.0509514769 - 0.3058887169 i & 0.4276458101 + 0.1562680098 i & 0 & 0 & -0.2485896215 + 0.2330510403 i & 0 & -0.0168357431 + 0.1199393466 i & -0.1992179294 + 0.3171314372 i & 0  \\\\\n",
       " 0 & 0.1887717202 + 0.2179265947 i & 0.2399302797 - 0.3129400828 i & 0 & -0.1385434388 - 0.2224911147 i & 0 & 0 & 0.279530006 + 0.169853452 i & -0.1133461627 - 0.2347659045 i & 0 & 0 & -0.1241812316 - 0.0178157048 i & 0 & 0.1986647477 - 0.0699932271 i & -0.461391878 - 0.4947134964 i & 0  \\\\\n",
       " -0.0943244227 - 0.0031857908 i & 0 & 0 & 0.2905438093 + 0.1553595855 i & 0 & 0.1632972248 - 0.2445196452 i & -0.2367406348 + 0.0586834762 i & 0 & 0 & -0.2085910564 + 0.1732683143 i & 0.5384554712 + 0.4100207109 i & 0 & 0.3847321428 - 0.2375804678 i & 0 & 0 & 0.0021862101 - 0.023307373 i  \\\\\n",
       " 0 & 0.2900115138 - 0.0349355571 i & 0.232362485 + 0.0287861759 i & 0 & 0.0243595646 + 0.2875689945 i & 0 & 0 & 0.2228598091 + 0.511044129 i & 0.0811639227 + 0.0776748583 i & 0 & 0 & -0.2281796516 + 0.4158922608 i & 0 & -0.2136187638 - 0.3558379393 i & 0.2076348017 + 0.1127423212 i & 0  \\\\\n",
       " 0.0238069364 + 0.2614130134 i & 0 & 0 & 0.3405640288 + 0.3942086744 i & 0 & 0.0442013257 - 0.0770189238 i & -0.0144810243 - 0.1870387179 i & 0 & 0 & 0.3229613441 + 0.4785093864 i & -0.1746444353 + 0.0213314176 i & 0 & -0.1922240161 + 0.125230154 i & 0 & 0 & -0.4440240365 + 0.0511106253 i  \\\\\n",
       " 0.2094935554 + 0.1526814154 i & 0 & 0 & 0.2248129033 - 0.0608480597 i & 0 & 0.1384157777 - 0.365676594 i & -0.0382547775 - 0.0151769795 i & 0 & 0 & 0.1425470983 - 0.2744790115 i & -0.3087891452 - 0.1058532013 i & 0 & 0.1999867238 - 0.1618572471 i & 0 & 0 & 0.0187420805 - 0.6747056225 i  \\\\\n",
       " 0 & -0.0077851683 + 0.2473954712 i & 0.0121666865 - 0.0674979785 i & 0 & 0.0055695435 + 0.1408445509 i & 0 & 0 & 0.1962257815 + 0.0277368949 i & 0.2469817021 - 0.3128232602 i & 0 & 0 & -0.0809400272 - 0.6472983599 i & 0 & -0.483507503 - 0.1317694764 i & -0.0281624759 + 0.1963367852 i & 0  \\\\\n",
       " 0 & 0.0281624759 + 0.1963367852 i & -0.483507503 + 0.1317694764 i & 0 & 0.0809400272 - 0.6472983599 i & 0 & 0 & 0.2469817021 + 0.3128232602 i & 0.1962257815 - 0.0277368949 i & 0 & 0 & -0.0055695435 + 0.1408445509 i & 0 & 0.0121666865 + 0.0674979785 i & 0.0077851683 + 0.2473954712 i & 0  \\\\\n",
       " -0.0187420805 - 0.6747056225 i & 0 & 0 & 0.1999867238 + 0.1618572471 i & 0 & 0.3087891452 - 0.1058532013 i & 0.1425470983 + 0.2744790115 i & 0 & 0 & -0.0382547775 + 0.0151769795 i & -0.1384157777 - 0.365676594 i & 0 & 0.2248129033 + 0.0608480597 i & 0 & 0 & -0.2094935554 + 0.1526814154 i  \\\\\n",
       " -0.4440240365 - 0.0511106253 i & 0 & 0 & 0.1922240161 + 0.125230154 i & 0 & -0.1746444353 - 0.0213314176 i & -0.3229613441 + 0.4785093864 i & 0 & 0 & 0.0144810243 - 0.1870387179 i & 0.0442013257 + 0.0770189238 i & 0 & -0.3405640288 + 0.3942086744 i & 0 & 0 & 0.0238069364 - 0.2614130134 i  \\\\\n",
       " 0 & 0.2076348017 - 0.1127423212 i & 0.2136187638 - 0.3558379393 i & 0 & -0.2281796516 - 0.4158922608 i & 0 & 0 & -0.0811639227 + 0.0776748583 i & -0.2228598091 + 0.511044129 i & 0 & 0 & 0.0243595646 - 0.2875689945 i & 0 & -0.232362485 + 0.0287861759 i & 0.2900115138 + 0.0349355571 i & 0  \\\\\n",
       " -0.0021862101 - 0.023307373 i & 0 & 0 & 0.3847321428 + 0.2375804678 i & 0 & -0.5384554712 + 0.4100207109 i & -0.2085910564 - 0.1732683143 i & 0 & 0 & -0.2367406348 - 0.0586834762 i & -0.1632972248 - 0.2445196452 i & 0 & 0.2905438093 - 0.1553595855 i & 0 & 0 & 0.0943244227 - 0.0031857908 i  \\\\\n",
       " 0 & 0.461391878 - 0.4947134964 i & 0.1986647477 + 0.0699932271 i & 0 & 0.1241812316 - 0.0178157048 i & 0 & 0 & -0.1133461627 + 0.2347659045 i & 0.279530006 - 0.169853452 i & 0 & 0 & 0.1385434388 - 0.2224911147 i & 0 & 0.2399302797 + 0.3129400828 i & -0.1887717202 + 0.2179265947 i & 0  \\\\\n",
       " 0 & -0.1992179294 - 0.3171314372 i & 0.0168357431 + 0.1199393466 i & 0 & -0.2485896215 - 0.2330510403 i & 0 & 0 & -0.4276458101 + 0.1562680098 i & -0.0509514769 - 0.3058887169 i & 0 & 0 & -0.0238601521 + 0.2124849282 i & 0 & -0.5492870022 - 0.0287896239 i & -0.2464212398 - 0.1284880137 i & 0  \\\\\n",
       " -0.2889736478 - 0.1272005532 i & 0 & 0 & -0.2847472075 + 0.1246135549 i & 0 & -0.0874732861 + 0.3415824078 i & 0.06814351 + 0.0465510086 i & 0 & 0 & 0.6147139655 - 0.1283494205 i & 0.1427363154 + 0.1118650677 i & 0 & 0.2901507075 - 0.2484646128 i & 0 & 0 & -0.2480040419 - 0.1946836008 i  \\\\\n",
       " \\end{bmatrix}\n",
       "$$"
      ],
      "text/plain": [
       "<IPython.core.display.Latex object>"
      ]
     },
     "execution_count": 16,
     "metadata": {},
     "output_type": "execute_result"
    }
   ],
   "source": [
    "array_to_latex(U, max_size=100)"
   ]
  },
  {
   "cell_type": "code",
   "execution_count": 17,
   "metadata": {},
   "outputs": [
    {
     "data": {
      "text/latex": [
       "$$\n",
       "\n",
       "\\begin{bmatrix}\n",
       "0.0022951768 - 0.0013887666 i & 0 & 0 & -0.00411291 - 0.0007812562 i & \\cdots & 0 & 0 & 0.0050070247 - 0.0008352706 i  \\\\\n",
       " 0 & -0.0013220951 + 0.0008570495 i & 0.0069546211 - 0.0061064149 i & 0 & \\cdots & 0.0062385324 - 0.0037799935 i & 0.0049420577 + 0.00622687 i & 0  \\\\\n",
       " 0 & -0.0028916167 - 8.33451 \\cdot 10^{-5} i & -0.0041260898 - 0.0041769811 i & 0 & \\cdots & -0.0063666006 + 0.006293206 i & -0.007130711 + 0.0056632014 i & 0  \\\\\n",
       " -2.9934 \\cdot 10^{-6} + 0.0006667136 i & 0 & 0 & 0.0010883192 - 0.0018522573 i & \\cdots & 0 & 0 & -0.008398764 + 0.0012244174 i  \\\\\n",
       " \\vdots & \\vdots & \\vdots & \\vdots & \\ddots & \\vdots & \\vdots & \\vdots \\\\\n",
       " 0 & 0.007130711 + 0.0056632014 i & -0.0063666006 - 0.006293206 i & 0 & \\cdots & -0.0041260898 + 0.0041769811 i & 0.0028916167 - 8.33451 \\cdot 10^{-5} i & 0  \\\\\n",
       " 0 & 0.0049420577 - 0.00622687 i & -0.0062385324 - 0.0037799935 i & 0 & \\cdots & -0.0069546211 - 0.0061064149 i & -0.0013220951 - 0.0008570495 i & 0  \\\\\n",
       " 0.0050070247 + 0.0008352706 i & 0 & 0 & 0.0042966066 - 0.0101682347 i & \\cdots & 0 & 0 & 0.0022951768 + 0.0013887666 i  \\\\\n",
       " \\end{bmatrix}\n",
       "$$"
      ],
      "text/plain": [
       "<IPython.core.display.Latex object>"
      ]
     },
     "execution_count": 17,
     "metadata": {},
     "output_type": "execute_result"
    }
   ],
   "source": [
    "array_to_latex(U - U_calc)"
   ]
  }
 ],
 "metadata": {
  "kernelspec": {
   "display_name": ".venv",
   "language": "python",
   "name": "python3"
  },
  "language_info": {
   "codemirror_mode": {
    "name": "ipython",
    "version": 3
   },
   "file_extension": ".py",
   "mimetype": "text/x-python",
   "name": "python",
   "nbconvert_exporter": "python",
   "pygments_lexer": "ipython3",
   "version": "3.11.5"
  }
 },
 "nbformat": 4,
 "nbformat_minor": 2
}
