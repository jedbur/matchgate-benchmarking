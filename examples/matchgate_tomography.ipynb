{
 "cells": [
  {
   "cell_type": "code",
   "execution_count": 1,
   "metadata": {},
   "outputs": [],
   "source": [
    "import numpy as np\n",
    "import scipy\n",
    "import qiskit \n",
    "from mgbenchmark.main import mg_unitary_to_so, generate_jw_list, generate_jw_basis, unitary_to_superoperator, compound_matrix, mg_so_to_superoperator\n",
    "from mgbenchmark.utils import generate_binary_strings, superop_to_dictionaries, dictionary_to_distribution, string_to_pauli, generate_jw_list_pauli, generate_jw_list\n",
    "from qiskit import QuantumCircuit, Aer, execute\n",
    "from qiskit.extensions import UnitaryGate\n",
    "from qiskit.providers.aer import AerSimulator\n",
    "from qiskit_aer.noise import (NoiseModel, QuantumError, ReadoutError,\n",
    "    pauli_error, depolarizing_error, thermal_relaxation_error)\n",
    "from qiskit.tools.visualization import array_to_latex\n",
    "import random"
   ]
  },
  {
   "cell_type": "markdown",
   "metadata": {},
   "source": [
    "## Efficient Matchgate Tomography\n",
    "\n",
    "Below is a demo for performing efficient matchgate tomography, as discussed in section VI of [our paper](https://arxiv.org/abs/2404.07974). It is a simple implementation of steps 3-5 of the algorithm to calculate matrix elements $R$, which then determine the matchgate unitary $U$.\n",
    "\n",
    "It is equivalent to an implementation of the FLO (Fermionic Linear Optics) tomography algorithm of [Oszmaniec, Dangniam, Morales and Zimboras](https://arxiv.org/abs/2012.15825) who proved that $\\mathcal{O}(n^3 \\log n)$ repetitions suffice to correctly reconstruct the unitary $U$.\n",
    "\n",
    "\n"
   ]
  },
  {
   "cell_type": "markdown",
   "metadata": {},
   "source": [
    "We start off by generating a random $R \\in SO(2n)$ matrix using the Haar Measure. We then calculate its quadratic hamiltonian elements\n",
    "\n",
    "$h_{ij} = \\frac{1}{4} \\log(R)_{ij}$\n",
    "\n",
    "and from that, find the quadratic Hamiltonian:\n",
    "\n",
    "$H = i \\sum_{i \\neq j} h_{i j} c_i c_j$.\n",
    "\n",
    "($c_i$ are the Clifford Algebra generators in the Jordan-Wigner basis). \n",
    "\n",
    "We then find the corresponding unitary:\n",
    "\n",
    "$U = e^{-iH}$"
   ]
  },
  {
   "cell_type": "code",
   "execution_count": 13,
   "metadata": {},
   "outputs": [],
   "source": [
    "n=4\n",
    "jwlist = generate_jw_list(n)\n",
    "S = scipy.stats.special_ortho_group.rvs(2*n)\n",
    "log_x = scipy.linalg.logm(S) / 4\n",
    "\n",
    "quadh = np.zeros((2**n, 2**n))\n",
    "for i in range(len(log_x)):\n",
    "    for j in range(len(log_x)):\n",
    "        if i != j:\n",
    "            quadh = quadh + ( jwlist[i] @ jwlist[j] ) * log_x[i][j] * 1j\n",
    "\n",
    "U = scipy.linalg.expm(-1j * quadh)\n"
   ]
  },
  {
   "cell_type": "markdown",
   "metadata": {},
   "source": [
    "Below is code (adapted from the matchgate benchmarking demo) to estimate the matrix elements\n",
    "\n",
    "$R_{ij} = \\frac{1}{2^n} \\text{Tr}(c_i^\\dagger U c_j U^\\dagger)$.\n",
    "\n",
    "Each matrix element is estimated using $ \\lceil n \\ln (n / \\delta) / \\epsilon^2 \\rceil$ shots, where $\\epsilon$ is the precision and $\\delta$ the failure probability.\n",
    "\n",
    "This is carried out $4n^2$ times, giving a total number of shots of $4n^3 \\lceil \\ln (n / \\delta) / \\epsilon^2 \\rceil $."
   ]
  },
  {
   "cell_type": "code",
   "execution_count": 14,
   "metadata": {},
   "outputs": [
    {
     "name": "stdout",
     "output_type": "stream",
     "text": [
      "1.5625 % complete\n",
      "3.125 % complete\n",
      "4.6875 % complete\n",
      "6.25 % complete\n",
      "7.8125 % complete\n",
      "9.375 % complete\n",
      "10.9375 % complete\n",
      "12.5 % complete\n",
      "14.0625 % complete\n",
      "15.625 % complete\n",
      "17.1875 % complete\n",
      "18.75 % complete\n",
      "20.3125 % complete\n",
      "21.875 % complete\n",
      "23.4375 % complete\n",
      "25.0 % complete\n",
      "26.5625 % complete\n",
      "28.125 % complete\n",
      "29.6875 % complete\n",
      "31.25 % complete\n",
      "32.8125 % complete\n",
      "34.375 % complete\n",
      "35.9375 % complete\n",
      "37.5 % complete\n",
      "39.0625 % complete\n",
      "40.625 % complete\n",
      "42.1875 % complete\n",
      "43.75 % complete\n",
      "45.3125 % complete\n",
      "46.875 % complete\n",
      "48.4375 % complete\n",
      "50.0 % complete\n",
      "51.5625 % complete\n",
      "53.125 % complete\n",
      "54.6875 % complete\n",
      "56.25 % complete\n",
      "57.8125 % complete\n",
      "59.375 % complete\n",
      "60.9375 % complete\n",
      "62.5 % complete\n",
      "64.0625 % complete\n",
      "65.625 % complete\n",
      "67.1875 % complete\n",
      "68.75 % complete\n",
      "70.3125 % complete\n",
      "71.875 % complete\n",
      "73.4375 % complete\n",
      "75.0 % complete\n",
      "76.5625 % complete\n",
      "78.125 % complete\n",
      "79.6875 % complete\n",
      "81.25 % complete\n",
      "82.8125 % complete\n",
      "84.375 % complete\n",
      "85.9375 % complete\n",
      "87.5 % complete\n",
      "89.0625 % complete\n",
      "90.625 % complete\n",
      "92.1875 % complete\n",
      "93.75 % complete\n",
      "95.3125 % complete\n",
      "96.875 % complete\n",
      "98.4375 % complete\n",
      "100.0 % complete\n",
      "shots: 613568\n"
     ]
    }
   ],
   "source": [
    "# Specify key parameters:\n",
    "epsilon = 0.05\n",
    "delta = 0.01\n",
    "\n",
    "\n",
    "# Generate the superoperator and the dictionaries\n",
    "ugate = UnitaryGate(U, label=\"U\")\n",
    "\n",
    "shots = 0\n",
    "progcount = 0\n",
    "jw_list = generate_jw_list_pauli(n)\n",
    "str_list = generate_binary_strings(2*n, 1)\n",
    "\n",
    "\n",
    "R = np.zeros((2*n, 2*n),dtype = 'complex128')\n",
    "\n",
    "for x in range(2*n):\n",
    "    for y in range(2*n):\n",
    "\n",
    "        jobs_dict = {}\n",
    "        circuit_dict = {}\n",
    "        phase_dict = {}\n",
    "\n",
    "        # Input iterated binary string \n",
    "        s_pair = str_list[x], str_list[y]\n",
    "\n",
    "        # Process the input string into pauli + phase\n",
    "        input_pauli = string_to_pauli(jw_list, s_pair[1])\n",
    "        input_phase = input_pauli.phase\n",
    "        input_pauli.phase = 0\n",
    "        i_string = str(input_pauli)\n",
    "\n",
    "        # Process the output string into pauli + phase\n",
    "        output_pauli = string_to_pauli(jw_list, s_pair[0]).adjoint()\n",
    "        output_phase = output_pauli.phase\n",
    "        output_pauli.phase = 0\n",
    "        j_string = str(output_pauli)\n",
    "\n",
    "        phase = (-1j) ** (input_phase + output_phase)\n",
    "\n",
    "        n_sample = int(np.ceil(n * np.log(n / delta) / ( epsilon ** 2)))\n",
    "\n",
    "        tr = 0\n",
    "\n",
    "        for _m in range(n_sample):\n",
    "\n",
    "            # Create the quantum circuit\n",
    "            qci = QuantumCircuit(n,n)\n",
    "            lamb = 1\n",
    "            qci_identifier = s_pair\n",
    "            qci_key = \"\"\n",
    "\n",
    "            # INITIALISE THE CIRCUIT IN PAULI EIGENSTATE\n",
    "            # Apply the cliffords to the circuit according to the input. \n",
    "            # This prepares an eigenstate of the pauli & stores the eigenvalue as lamb\n",
    "            # NOTE: The indices are reversed due to the Qiskit Convention, so q_(n-1) represents the first qubit and q_0 the last \n",
    "            for i in range(len(i_string)):\n",
    "                prob = random.randint(0,1)\n",
    "                if prob == 0:\n",
    "                    qci_key += \"0\"\n",
    "                else:\n",
    "                    qci_key += \"1\"\n",
    "\n",
    "                if i_string[i] == 'I':\n",
    "                    if prob == 0:\n",
    "                        qci.id(n-1-i)\n",
    "                    else: \n",
    "                        qci.x(n-1-i)\n",
    "                elif i_string[i] == 'Z':\n",
    "                    if prob == 0:\n",
    "                        qci.x(n-1-i)\n",
    "                        lamb = lamb * -1\n",
    "                    else:\n",
    "                        qci.id(n-1-i)\n",
    "                elif i_string[i] == 'X':\n",
    "                    if prob == 0:\n",
    "                        qci.h(n-1-i)\n",
    "                    else:\n",
    "                        qci.x(n-1-i)\n",
    "                        qci.h(n-1-i)\n",
    "                        lamb = lamb * -1\n",
    "                elif i_string[i] == 'Y':\n",
    "                    if prob == 0:\n",
    "                        qci.h(n-1-i)\n",
    "                        qci.s(n-1-i)\n",
    "                    else:\n",
    "                        qci.x(n-1-i)\n",
    "                        qci.h(n-1-i)\n",
    "                        qci.s(n-1-i)\n",
    "                        lamb = lamb * -1\n",
    "\n",
    "            # APPEND THE UNITARY GATE TO INPUT STATE\n",
    "            qci.barrier()\n",
    "            qci.append(ugate, list(range(n)))\n",
    "            qci.barrier()\n",
    "\n",
    "            # MEASURE THE OUTPUT IN PAULI BASIS\n",
    "            # Apply the cliffords to the circuit according to the output string. This will give measurements in the pauli basis\n",
    "            for j in range(len(j_string)):\n",
    "                if j_string[j] == \"I\" or j_string[j] == \"Z\":\n",
    "                    qci.id(n-1-j)\n",
    "                elif j_string[j] == \"X\":\n",
    "                    qci.h(n-1-j)\n",
    "                elif j_string[j] == \"Y\":\n",
    "                    qci.sdg(n-1-j)\n",
    "                    qci.h(n-1-j)\n",
    "\n",
    "            for j in range(len(j_string)):\n",
    "                if j_string[j] == 'X' or j_string[j] == 'Y' or j_string[j] == 'Z':\n",
    "                    qci.measure(n-1-j, n-1-j)\n",
    "\n",
    "            qci_identifier += (qci_key,)\n",
    "\n",
    "            if qci_identifier not in jobs_dict:\n",
    "                jobs_dict[qci_identifier] = 1\n",
    "                phase_dict[qci_identifier] = (lamb * phase)\n",
    "                circuit_dict[qci_identifier] = qci\n",
    "            elif qci_identifier in jobs_dict:\n",
    "                jobs_dict[qci_identifier] += 1\n",
    "            \n",
    "            shots += 1\n",
    "\n",
    "        # (The code has been optimised to 'tally' circuit simulations together, to reduce the number of calls to the backend.)\n",
    "        for qci_identifier in jobs_dict:\n",
    "            simulator = Aer.get_backend('aer_simulator')\n",
    "            job = execute(circuit_dict[qci_identifier], backend=simulator, shots=jobs_dict[qci_identifier])\n",
    "            result = job.result()\n",
    "            counts = result.get_counts()\n",
    "            for strings in counts:\n",
    "                tr += (-1)**strings.count('1') * phase_dict[qci_identifier] * counts[strings]\n",
    "\n",
    "        progcount += 1\n",
    "        \n",
    "        print(progcount * 100 / (2*n)**2, \"% complete\")\n",
    "        R[x,y] = tr / n_sample\n",
    "\n",
    "print(\"shots:\", shots)\n",
    "\n"
   ]
  },
  {
   "cell_type": "markdown",
   "metadata": {},
   "source": [
    "After getting an estimate $\\tilde{R}$ of $R$, we repeat the previous calculations to find $\\tilde{U}$, the estimated unitary:"
   ]
  },
  {
   "cell_type": "code",
   "execution_count": 15,
   "metadata": {},
   "outputs": [],
   "source": [
    "jwlist = generate_jw_list(n)\n",
    "log_x = scipy.linalg.logm(R) / 4\n",
    "\n",
    "quadh = np.zeros((2**n, 2**n))\n",
    "for i in range(len(log_x)):\n",
    "    for j in range(len(log_x)):\n",
    "        if i != j:\n",
    "            quadh = quadh + ( jwlist[i] @ jwlist[j] ) * log_x[i][j] * 1j\n",
    "\n",
    "U_calc = scipy.linalg.expm(-1j * quadh)"
   ]
  },
  {
   "cell_type": "markdown",
   "metadata": {},
   "source": [
    "We now find the determinant of $R$, the $L2$ norm of $U - \\tilde{U}$ and $R - \\tilde{R}$, as well as the determinant norm $\\sqrt{\\det | \\tilde{U} - U |}$."
   ]
  },
  {
   "cell_type": "code",
   "execution_count": 17,
   "metadata": {},
   "outputs": [
    {
     "data": {
      "text/plain": [
       "(1.0157715926980557+0j)"
      ]
     },
     "execution_count": 17,
     "metadata": {},
     "output_type": "execute_result"
    }
   ],
   "source": [
    "np.linalg.det(R)"
   ]
  },
  {
   "cell_type": "code",
   "execution_count": 18,
   "metadata": {},
   "outputs": [
    {
     "data": {
      "text/plain": [
       "0.03296180475949526"
      ]
     },
     "execution_count": 18,
     "metadata": {},
     "output_type": "execute_result"
    }
   ],
   "source": [
    "np.linalg.norm(U-U_calc, ord=2)"
   ]
  },
  {
   "cell_type": "code",
   "execution_count": 19,
   "metadata": {},
   "outputs": [
    {
     "data": {
      "text/plain": [
       "0.04224494193391361"
      ]
     },
     "execution_count": 19,
     "metadata": {},
     "output_type": "execute_result"
    }
   ],
   "source": [
    "np.linalg.norm(R-S, ord=2)"
   ]
  },
  {
   "cell_type": "code",
   "execution_count": 20,
   "metadata": {},
   "outputs": [
    {
     "data": {
      "text/plain": [
       "(8.820709230960772e-16-1.7045249335117155e-28j)"
      ]
     },
     "execution_count": 20,
     "metadata": {},
     "output_type": "execute_result"
    }
   ],
   "source": [
    "np.sqrt(np.linalg.det(U-U_calc))"
   ]
  },
  {
   "cell_type": "markdown",
   "metadata": {},
   "source": [
    "The true and estimated matrices $R$, $U$ are printed below:"
   ]
  },
  {
   "cell_type": "code",
   "execution_count": 21,
   "metadata": {},
   "outputs": [
    {
     "data": {
      "text/latex": [
       "$$\n",
       "\n",
       "\\begin{bmatrix}\n",
       "-0.1124201789 & 0.5480373026 & \\frac{3 \\cdot 2^{\\frac{49}{802}} \\cdot 3^{\\frac{26}{401}} \\cdot 5^{\\frac{621}{802}} \\cdot 7^{\\frac{99}{401}}}{50} & -0.2203765003 & -0.4457006879 & -0.5331460068 & -0.0773434962 & 0.0824021417  \\\\\n",
       " 0.7135638801 & 0.182931128 & 0.0725999229 & 0.0041288531 & -0.0175115445 & -0.040203817 & 0.4457274774 & -0.501476829  \\\\\n",
       " -0.5235756739 & -0.2499229159 & 0.0643376577 & -0.2843411856 & -0.196541034 & 0.0522975278 & 0.1157640219 & -0.7236387825  \\\\\n",
       " -0.1240650839 & -0.2940904019 & -0.0841165701 & \\frac{459986536544739960976801 \\cdot 2^{\\frac{2}{3}} \\cdot 3^{\\frac{3}{7}} \\cdot 5^{\\frac{2}{7}} \\cdot 7^{\\frac{8}{21}}}{5242880000000000000000000} & -0.247326044 & -0.4747832402 & 0.2313606057 & -0.037548848  \\\\\n",
       " -0.25501019 & 0.6022270798 & -0.3422742583 & 0.2715889815 & 0.490073288 & -0.1212037479 & -0.14351962 & -0.3254536021  \\\\\n",
       " -0.1661352339 & 0.2322602558 & -0.617640039 & -0.1809191536 & -0.3391744335 & 0.1525525234 & 0.5519276577 & 0.2476036987  \\\\\n",
       " -0.3091205138 & 0.1219570921 & 0.5565352421 & 0.1152175382 & 0.3644831584 & 0.1753713871 & 0.6037711502 & 0.1960145932  \\\\\n",
       " 0.021864494 & -0.2928222576 & -0.1799078623 & -0.4486465142 & 0.46172134 & -0.645962141 & 0.1966070659 & 0.1049691095  \\\\\n",
       " \\end{bmatrix}\n",
       "$$"
      ],
      "text/plain": [
       "<IPython.core.display.Latex object>"
      ]
     },
     "execution_count": 21,
     "metadata": {},
     "output_type": "execute_result"
    }
   ],
   "source": [
    "array_to_latex(S)"
   ]
  },
  {
   "cell_type": "code",
   "execution_count": 22,
   "metadata": {},
   "outputs": [
    {
     "data": {
      "text/latex": [
       "$$\n",
       "\n",
       "\\begin{bmatrix}\n",
       "-0.1071242307 & 0.5537707312 & 0.3722749557 & -0.2341712736 & -0.4659434651 & -0.5379159278 & -0.079169709 & 0.0749973923  \\\\\n",
       " 0.709815375 & 0.1878585585 & 0.0733284656 & 0.0071972463 & 0.0034421613 & -0.0528841139 & 0.4507145092 & -0.4989047669  \\\\\n",
       " -0.5212266611 & -0.2504433086 & 0.0710336915 & -0.3017628038 & -0.1903619485 & 0.036403463 & 0.1231876499 & -0.7267132575  \\\\\n",
       " -0.1137999374 & -0.2735996662 & -0.082924794 & 0.7452800668 & -0.2489829978 & -0.4792948785 & 0.2429331386 & -0.028893293  \\\\\n",
       " -0.2502346928 & 0.5990403672 & -0.3401481172 & 0.2788150621 & \\frac{28125 \\cdot 2^{\\frac{7}{61}} \\cdot 3^{\\frac{101}{183}} \\cdot 5^{\\frac{2}{61}} \\cdot 7^{\\frac{3}{61}}}{134456} & -0.1200584124 & -0.1548972567 & -0.3249191614  \\\\\n",
       " -0.1707520601 & 0.2331281944 & -0.6363826014 & -0.1920308751 & -0.3320120997 & 0.14321477 & 0.5600292062 & 0.2579534787  \\\\\n",
       " -0.2932095546 & 0.1175550224 & 0.5583602795 & 0.1192239491 & 0.3726921873 & 0.1630332742 & 0.5909043496 & 0.1907791801  \\\\\n",
       " 0.033900073 & -0.2690101179 & -0.1907791801 & -0.4465421926 & 0.4646917701 & -0.6518201732 & 0.1757588401 & 0.0985709815  \\\\\n",
       " \\end{bmatrix}\n",
       "$$"
      ],
      "text/plain": [
       "<IPython.core.display.Latex object>"
      ]
     },
     "execution_count": 22,
     "metadata": {},
     "output_type": "execute_result"
    }
   ],
   "source": [
    "array_to_latex(R)"
   ]
  },
  {
   "cell_type": "code",
   "execution_count": 23,
   "metadata": {},
   "outputs": [
    {
     "data": {
      "text/latex": [
       "$$\n",
       "\n",
       "\\begin{bmatrix}\n",
       "-0.0052959481 & -0.0057334286 & 0.0055942271 & 0.0137947733 & 0.0202427772 & 0.004769921 & 0.0018262128 & 0.0074047494  \\\\\n",
       " 0.0037485051 & -0.0049274304 & -0.0007285427 & -0.0030683932 & -0.0209537058 & 0.012680297 & -0.0049870318 & -0.0025720621  \\\\\n",
       " -0.0023490128 & 0.0005203928 & -0.0066960338 & 0.0174216182 & -0.0061790855 & 0.0158940648 & -0.007423628 & 0.003074475  \\\\\n",
       " -0.0102651465 & -0.0204907357 & -0.0011917761 & -0.0039865014 & 0.0016569538 & 0.0045116383 & -0.0115725329 & -0.008655555  \\\\\n",
       " -0.0047754972 & 0.0031867127 & -0.0021261411 & -0.0072260805 & 0.0082750195 & -0.0011453355 & 0.0113776367 & -0.0005344408  \\\\\n",
       " 0.0046168262 & -0.0008679386 & 0.0187425625 & 0.0111117215 & -0.0071623338 & 0.0093377534 & -0.0081015485 & -0.0103497799  \\\\\n",
       " -0.0159109592 & 0.0044020696 & -0.0018250374 & -0.0040064109 & -0.0082090289 & 0.0123381128 & 0.0128668006 & 0.0052354131  \\\\\n",
       " -0.012035579 & -0.0238121397 & 0.0108713178 & -0.0021043216 & -0.0029704301 & 0.0058580321 & 0.0208482258 & 0.006398128  \\\\\n",
       " \\end{bmatrix}\n",
       "$$"
      ],
      "text/plain": [
       "<IPython.core.display.Latex object>"
      ]
     },
     "execution_count": 23,
     "metadata": {},
     "output_type": "execute_result"
    }
   ],
   "source": [
    "array_to_latex(S- R)"
   ]
  },
  {
   "cell_type": "code",
   "execution_count": 24,
   "metadata": {},
   "outputs": [
    {
     "data": {
      "text/latex": [
       "$$\n",
       "\n",
       "\\begin{bmatrix}\n",
       "-0.1339006695 + 0.2232347221 i & 0 & 0 & 0.3789402029 - 0.0170933225 i & 0 & 0.2177726445 + 0.1038213654 i & -0.2375221654 - 0.3061676026 i & 0 & 0 & -0.1946541695 + 0.1930616957 i & -0.3774768656 + 0.3028516446 i & 0 & -0.4536892681 - 0.0952401312 i & 0 & 0 & -0.22603851 - 0.0679766183 i  \\\\\n",
       " 0 & 0.2498893669 + 0.2207069007 i & -0.2589619005 - 0.2965231289 i & 0 & 0.0248054372 + 0.161652315 i & 0 & 0 & -0.0139166092 - 0.1976750292 i & 0.6562021893 - 0.0699945524 i & 0 & 0 & -0.1327121741 + 0.1752839876 i & 0 & -0.3316274509 - 0.2215159898 i & 0.1523556519 + 0.0417704907 i & 0  \\\\\n",
       " 0 & -0.0391613686 - 0.2727724132 i & 0.0455948669 - 0.0502258217 i & 0 & 0.430487955 - 0.0819470301 i & 0 & 0 & 0.0038270715 - 0.3264934859 i & 0.0449469595 - 0.1154836303 i & 0 & 0 & -0.1283507511 - 0.423064082 i & 0 & -0.1349736482 - 0.2843127582 i & -0.5563788889 + 0.0372733935 i & 0  \\\\\n",
       " -0.304463076 + 0.1375054327 i & 0 & 0 & -0.0512251842 + 0.1194306892 i & 0 & 0.2793316796 - 0.1763199199 i & -0.1108043461 + 0.2035956936 i & 0 & 0 & 0.0107140204 - 0.5181216827 i & -0.3030216724 + 0.1772923955 i & 0 & 0.3898666734 + 0.239824222 i & 0 & 0 & -0.3087383442 - 0.1096012319 i  \\\\\n",
       " 0 & -0.0569271415 - 0.1555519714 i & 0.1774829407 + 0.2229361024 i & 0 & -0.0213857724 + 0.2373589621 i & 0 & 0 & 0.3620297012 + 0.0232023553 i & -0.1049386248 - 0.3571651556 i & 0 & 0 & -0.4714681353 - 0.1665760748 i & 0 & -0.008169403 - 0.2947984976 i & 0.4708236797 + 0.0755315663 i & 0  \\\\\n",
       " -0.0584600741 - 0.2345492193 i & 0 & 0 & -0.165978417 + 0.0979075242 i & 0 & 0.1726245858 + 0.2093281381 i & -0.1499126646 - 0.1324028011 i & 0 & 0 & -0.2452052993 - 0.5585066954 i & 0.4321249951 + 0.2680535609 i & 0 & -0.3463257067 - 0.046426684 i & 0 & 0 & 0.1812518725 + 0.0722722319 i  \\\\\n",
       " -0.2562562197 - 0.0694292039 i & 0 & 0 & -0.1793135026 + 0.2599689797 i & 0 & -0.0508041659 - 0.212493252 i & 0.1709105269 + 0.0951113643 i & 0 & 0 & 0.0420786626 + 0.0173495877 i & -0.2922525718 - 0.0993499709 i & 0 & -0.3546039696 + 0.1734799374 i & 0 & 0 & 0.0705978235 + 0.696855212 i  \\\\\n",
       " 0 & -0.2981917645 - 0.052726371 i & 0.2402619944 - 0.0344859169 i & 0 & -0.1187487121 - 0.0323709179 i & 0 & 0 & 0.0009655915 + 0.0510047785 i & 0.355177096 + 0.0657640697 i & 0 & 0 & -0.0861729926 - 0.4560948991 i & 0 & -0.3121994794 + 0.5076970556 i & 0.1280083746 - 0.3377868575 i & 0  \\\\\n",
       " 0 & -0.1280083746 - 0.3377868575 i & -0.3121994794 - 0.5076970556 i & 0 & 0.0861729926 - 0.4560948991 i & 0 & 0 & 0.355177096 - 0.0657640697 i & 0.0009655915 - 0.0510047785 i & 0 & 0 & 0.1187487121 - 0.0323709179 i & 0 & 0.2402619944 + 0.0344859169 i & 0.2981917645 - 0.052726371 i & 0  \\\\\n",
       " -0.0705978235 + 0.696855212 i & 0 & 0 & -0.3546039696 - 0.1734799374 i & 0 & 0.2922525718 - 0.0993499709 i & 0.0420786626 - 0.0173495877 i & 0 & 0 & 0.1709105269 - 0.0951113643 i & 0.0508041659 - 0.212493252 i & 0 & -0.1793135026 - 0.2599689797 i & 0 & 0 & 0.2562562197 - 0.0694292039 i  \\\\\n",
       " 0.1812518725 - 0.0722722319 i & 0 & 0 & 0.3463257067 - 0.046426684 i & 0 & 0.4321249951 - 0.2680535609 i & 0.2452052993 - 0.5585066954 i & 0 & 0 & 0.1499126646 - 0.1324028011 i & 0.1726245858 - 0.2093281381 i & 0 & 0.165978417 + 0.0979075242 i & 0 & 0 & -0.0584600741 + 0.2345492193 i  \\\\\n",
       " 0 & 0.4708236797 - 0.0755315663 i & 0.008169403 - 0.2947984976 i & 0 & -0.4714681353 + 0.1665760748 i & 0 & 0 & 0.1049386248 - 0.3571651556 i & -0.3620297012 + 0.0232023553 i & 0 & 0 & -0.0213857724 - 0.2373589621 i & 0 & -0.1774829407 + 0.2229361024 i & -0.0569271415 + 0.1555519714 i & 0  \\\\\n",
       " 0.3087383442 - 0.1096012319 i & 0 & 0 & 0.3898666734 - 0.239824222 i & 0 & 0.3030216724 + 0.1772923955 i & 0.0107140204 + 0.5181216827 i & 0 & 0 & -0.1108043461 - 0.2035956936 i & -0.2793316796 - 0.1763199199 i & 0 & -0.0512251842 - 0.1194306892 i & 0 & 0 & 0.304463076 + 0.1375054327 i  \\\\\n",
       " 0 & 0.5563788889 + 0.0372733935 i & -0.1349736482 + 0.2843127582 i & 0 & 0.1283507511 - 0.423064082 i & 0 & 0 & 0.0449469595 + 0.1154836303 i & 0.0038270715 + 0.3264934859 i & 0 & 0 & -0.430487955 - 0.0819470301 i & 0 & 0.0455948669 + 0.0502258217 i & 0.0391613686 - 0.2727724132 i & 0  \\\\\n",
       " 0 & 0.1523556519 - 0.0417704907 i & 0.3316274509 - 0.2215159898 i & 0 & -0.1327121741 - 0.1752839876 i & 0 & 0 & -0.6562021893 - 0.0699945524 i & 0.0139166092 - 0.1976750292 i & 0 & 0 & 0.0248054372 - 0.161652315 i & 0 & 0.2589619005 - 0.2965231289 i & 0.2498893669 - 0.2207069007 i & 0  \\\\\n",
       " -0.22603851 + 0.0679766183 i & 0 & 0 & 0.4536892681 - 0.0952401312 i & 0 & -0.3774768656 - 0.3028516446 i & 0.1946541695 + 0.1930616957 i & 0 & 0 & 0.2375221654 - 0.3061676026 i & 0.2177726445 - 0.1038213654 i & 0 & -0.3789402029 - 0.0170933225 i & 0 & 0 & -0.1339006695 - 0.2232347221 i  \\\\\n",
       " \\end{bmatrix}\n",
       "$$"
      ],
      "text/plain": [
       "<IPython.core.display.Latex object>"
      ]
     },
     "execution_count": 24,
     "metadata": {},
     "output_type": "execute_result"
    }
   ],
   "source": [
    "array_to_latex(U, max_size=100)"
   ]
  },
  {
   "cell_type": "code",
   "execution_count": 25,
   "metadata": {},
   "outputs": [
    {
     "data": {
      "text/latex": [
       "$$\n",
       "\n",
       "\\begin{bmatrix}\n",
       "0.0070870016 - 0.0048780963 i & 0 & 0 & 0.0069161882 - 0.0040332107 i & \\cdots & 0 & 0 & 0.0036556772 + 0.0022656684 i  \\\\\n",
       " 0 & -0.0002952376 + 0.001962428 i & -0.0065300973 + 0.00460747 i & 0 & \\cdots & 0.0009341001 - 0.0031090084 i & 0.0016322292 + 0.0103378907 i & 0  \\\\\n",
       " 0 & 0.0028370948 - 0.0036724958 i & 0.002940319 + 0.0067912053 i & 0 & \\cdots & -0.0090223569 + 0.0043307009 i & 0.0056364938 + 0.0112439805 i & 0  \\\\\n",
       " -0.0030465456 + 0.0006648836 i & 0 & 0 & 0.0131703022 + 0.0061101727 i & \\cdots & 0 & 0 & 0.0024436796 - 0.005638275 i  \\\\\n",
       " \\vdots & \\vdots & \\vdots & \\vdots & \\ddots & \\vdots & \\vdots & \\vdots \\\\\n",
       " 0 & -0.0056364938 + 0.0112439805 i & -0.0090223569 - 0.0043307009 i & 0 & \\cdots & 0.002940319 - 0.0067912053 i & -0.0028370948 - 0.0036724958 i & 0  \\\\\n",
       " 0 & 0.0016322292 - 0.0103378907 i & -0.0009341001 - 0.0031090084 i & 0 & \\cdots & 0.0065300973 + 0.00460747 i & -0.0002952376 - 0.001962428 i & 0  \\\\\n",
       " 0.0036556772 - 0.0022656684 i & 0 & 0 & 0.0039190917 + 0.0059567187 i & \\cdots & 0 & 0 & 0.0070870016 + 0.0048780963 i  \\\\\n",
       " \\end{bmatrix}\n",
       "$$"
      ],
      "text/plain": [
       "<IPython.core.display.Latex object>"
      ]
     },
     "execution_count": 25,
     "metadata": {},
     "output_type": "execute_result"
    }
   ],
   "source": [
    "array_to_latex(U - U_calc)"
   ]
  }
 ],
 "metadata": {
  "kernelspec": {
   "display_name": ".venv",
   "language": "python",
   "name": "python3"
  },
  "language_info": {
   "codemirror_mode": {
    "name": "ipython",
    "version": 3
   },
   "file_extension": ".py",
   "mimetype": "text/x-python",
   "name": "python",
   "nbconvert_exporter": "python",
   "pygments_lexer": "ipython3",
   "version": "3.11.5"
  }
 },
 "nbformat": 4,
 "nbformat_minor": 2
}
