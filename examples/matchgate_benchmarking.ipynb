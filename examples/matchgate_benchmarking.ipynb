{
 "cells": [
  {
   "cell_type": "code",
   "execution_count": 1,
   "metadata": {},
   "outputs": [],
   "source": [
    "import numpy as np\n",
    "import qiskit \n",
    "from mgbenchmark.main import mg_unitary_to_so, generate_jw_list, generate_jw_basis, unitary_to_superoperator, compound_matrix, mg_so_to_superoperator\n",
    "from mgbenchmark.utils import generate_binary_strings, superop_to_dictionaries, dictionary_to_distribution, string_to_pauli, generate_jw_list_pauli\n",
    "from qiskit import QuantumCircuit, Aer, execute\n",
    "from qiskit.extensions import UnitaryGate\n",
    "from qiskit.providers.aer import AerSimulator\n",
    "from qiskit_aer.noise import (NoiseModel, QuantumError, ReadoutError,\n",
    "    pauli_error, depolarizing_error, thermal_relaxation_error)\n",
    "from qiskit.tools.visualization import array_to_latex\n",
    "from qiskit.quantum_info import Kraus, SuperOp, Chi\n",
    "import random"
   ]
  },
  {
   "cell_type": "markdown",
   "metadata": {},
   "source": [
    "## Matchgate Benchmarking\n",
    "\n",
    "Below is a demo of Algorithm 1 in https://arxiv.org/abs/2404.07974.\n",
    "\n",
    "We start off by defining the matchgate which we will test with our circuit. Here's an example:"
   ]
  },
  {
   "cell_type": "code",
   "execution_count": 3,
   "metadata": {},
   "outputs": [
    {
     "data": {
      "text/latex": [
       "$$\n",
       "U = \n",
       "\\begin{bmatrix}\n",
       "0.9980956169 - 0.0616858123 i & 0 & 0 & 0  \\\\\n",
       " 0 & 0.9980956169 - 0.0616858123 i & 0 & 0  \\\\\n",
       " 0 & 0 & 0.9980956169 + 0.0616858123 i & 0  \\\\\n",
       " 0 & 0 & 0 & 0.9980956169 + 0.0616858123 i  \\\\\n",
       " \\end{bmatrix}\n",
       "$$"
      ],
      "text/plain": [
       "<IPython.core.display.Latex object>"
      ]
     },
     "execution_count": 3,
     "metadata": {},
     "output_type": "execute_result"
    }
   ],
   "source": [
    "theta = 0.12345\n",
    "def gate_matrix(angle):\n",
    "    matrix = np.array([[np.exp(1j * angle / 2), 0, 0, 0],\n",
    "                       [0, np.exp(1j * angle / 2), 0, 0],\n",
    "                       [0, 0, np.exp(-1j * angle / 2), 0],\n",
    "                       [0, 0, 0, np.exp(-1j * angle / 2)]])\n",
    "    return matrix\n",
    "\n",
    "unitary = gate_matrix(-theta)\n",
    "\n",
    "array_to_latex(unitary, prefix=\"U = \")"
   ]
  },
  {
   "cell_type": "markdown",
   "metadata": {},
   "source": [
    "We can define some other more complicated unitaries to use in the algorithm as well:"
   ]
  },
  {
   "cell_type": "code",
   "execution_count": 4,
   "metadata": {},
   "outputs": [],
   "source": [
    "theta = 1.2\n",
    "phi = 0.75\n",
    "\n",
    "clifford1 = np.asarray([[1, 0, 0, 0],\n",
    "                        [0, 1, 0, 0],\n",
    "                        [0, 0, 0, 1],\n",
    "                        [0, 0, 1, 0]])\n",
    "\n",
    "clifford2 = np.asarray([[0, 0, 1, 0],\n",
    "                        [0, 0, 0, -1],\n",
    "                        [1, 0, 0, 0],\n",
    "                        [0, -1, 0, 0]])\n",
    "\n",
    "fsim = np.asarray([[1, 0, 0, 0],\n",
    "                     [0, np.cos(theta), -1j*np.sin(theta), 0],\n",
    "                     [0, -1j*np.sin(theta), np.cos(theta), 0],\n",
    "                     [0, 0, 0, np.exp(1j * phi)]])\n",
    "\n",
    "mg1 = np.asarray([[1, 0, 0, 0],\n",
    "                     [0, np.cos(theta), -np.sin(theta), 0],\n",
    "                     [0, np.sin(theta), np.cos(theta), 0],\n",
    "                     [0, 0, 0, 1]])\n",
    "\n",
    "mg2 = np.asarray([[1, 0, 0, 0],\n",
    "                     [0, np.cos(2*theta), -1j*np.sin(2*theta), 0],\n",
    "                     [0, -1j*np.sin(2*theta), np.cos(2*theta), 0],\n",
    "                     [0, 0, 0, 1]])\n",
    "mg3 = np.asarray([[1, 0, 0, 0],\n",
    "                     [0, np.cos(-0.5*theta), -np.sin(-0.5*theta), 0],\n",
    "                     [0, np.sin(-0.5*theta), np.cos(-0.5*theta), 0],\n",
    "                     [0, 0, 0, 1]])\n"
   ]
  },
  {
   "cell_type": "markdown",
   "metadata": {},
   "source": [
    "Next, we calculate a superoperator matrix. We can do this the 'standard' way, by taking Hilbert-Schmidt inner products, or we can convert $U$ to an $SO(2n)$ matrix and take its compound matrices. Both methods are available (the latter performs better for large matrices)."
   ]
  },
  {
   "cell_type": "code",
   "execution_count": 5,
   "metadata": {},
   "outputs": [
    {
     "data": {
      "text/latex": [
       "$$\n",
       "\n",
       "\\begin{bmatrix}\n",
       "1 & 0 & 0 & 0 & 0 & 0 & 0 & 0 & 0 & 0 & 0 & 0 & 0 & 0 & 0 & 0  \\\\\n",
       " 0 & 0.9923897211 & -0.1231366779 & 0 & 0 & 0 & 0 & 0 & 0 & 0 & 0 & 0 & 0 & 0 & 0 & 0  \\\\\n",
       " 0 & 0.1231366779 & 0.9923897211 & 0 & 0 & 0 & 0 & 0 & 0 & 0 & 0 & 0 & 0 & 0 & 0 & 0  \\\\\n",
       " 0 & 0 & 0 & 1 & 0 & 0 & 0 & 0 & 0 & 0 & 0 & 0 & 0 & 0 & 0 & 0  \\\\\n",
       " 0 & 0 & 0 & 0 & 1 & 0 & 0 & 0 & 0 & 0 & 0 & 0 & 0 & 0 & 0 & 0  \\\\\n",
       " 0 & 0 & 0 & 0 & 0 & 1 & 0 & 0 & 0 & 0 & 0 & 0 & 0 & 0 & 0 & 0  \\\\\n",
       " 0 & 0 & 0 & 0 & 0 & 0 & 0.9923897211 & 0 & -0.1231366779 & 0 & 0 & 0 & 0 & 0 & 0 & 0  \\\\\n",
       " 0 & 0 & 0 & 0 & 0 & 0 & 0 & 0.9923897211 & 0 & -0.1231366779 & 0 & 0 & 0 & 0 & 0 & 0  \\\\\n",
       " 0 & 0 & 0 & 0 & 0 & 0 & 0.1231366779 & 0 & 0.9923897211 & 0 & 0 & 0 & 0 & 0 & 0 & 0  \\\\\n",
       " 0 & 0 & 0 & 0 & 0 & 0 & 0 & 0.1231366779 & 0 & 0.9923897211 & 0 & 0 & 0 & 0 & 0 & 0  \\\\\n",
       " 0 & 0 & 0 & 0 & 0 & 0 & 0 & 0 & 0 & 0 & 1 & 0 & 0 & 0 & 0 & 0  \\\\\n",
       " 0 & 0 & 0 & 0 & 0 & 0 & 0 & 0 & 0 & 0 & 0 & 1 & 0 & 0 & 0 & 0  \\\\\n",
       " 0 & 0 & 0 & 0 & 0 & 0 & 0 & 0 & 0 & 0 & 0 & 0 & 1 & 0 & 0 & 0  \\\\\n",
       " 0 & 0 & 0 & 0 & 0 & 0 & 0 & 0 & 0 & 0 & 0 & 0 & 0 & 0.9923897211 & -0.1231366779 & 0  \\\\\n",
       " 0 & 0 & 0 & 0 & 0 & 0 & 0 & 0 & 0 & 0 & 0 & 0 & 0 & 0.1231366779 & 0.9923897211 & 0  \\\\\n",
       " 0 & 0 & 0 & 0 & 0 & 0 & 0 & 0 & 0 & 0 & 0 & 0 & 0 & 0 & 0 & 1  \\\\\n",
       " \\end{bmatrix}\n",
       "$$"
      ],
      "text/plain": [
       "<IPython.core.display.Latex object>"
      ]
     },
     "execution_count": 5,
     "metadata": {},
     "output_type": "execute_result"
    }
   ],
   "source": [
    "#r = mg_unitary_to_so(unitary)\n",
    "#superop = mg_so_to_superoperator(r)\n",
    "\n",
    "superop = unitary_to_superoperator(unitary)\n",
    "\n",
    "array_to_latex(superop, max_size=100)"
   ]
  },
  {
   "cell_type": "markdown",
   "metadata": {},
   "source": [
    "We can convert the superoperator matrix $ \\ \\hat{\\mathcal{U}} \\ $ into a series of dictionaries; one giving us the matrix elements, the other giving us the sampling probabilities. Then, we use the latter to form a probability distribution.\n",
    "\n",
    "The algorithm for benchmarking consists of the following steps:\n",
    "* Take the unitary $U$ and convert it to a superoperator matrix $ \\ \\hat{\\mathcal{U}} \\ $.\n",
    "* Convert $ \\ \\hat{\\mathcal{U}} \\ $ to a series of dictionaries, one with probabilities and the other with non-zero superoperator matrix elements.\n",
    "* Sample from the probability distribution to get an 'input' and 'output' operators $c_\\mathbf{x}, c_\\mathbf{y}$. In our paper, we index them using subsets $I \\subseteq {1, 2, ..., 2n}$. Here, we index using bitstrings $\\mathbf{x}$ such that $x_k = 1$ if $k \\in I$, and $x_k = 0$ otherwise (this is equivalent & computationally easier to implement).\n",
    "* Convert the bitstrings to Pauli operators and store the phase factors. \n",
    "* Prepare random eigenstates of the input state, evolve them with $U$, apply the gate error, and measure in the basis of the output operator. \n",
    "* Repeat the above step for a number of trials, and calculate the gate fidelity from the data.\n"
   ]
  },
  {
   "cell_type": "markdown",
   "metadata": {},
   "source": [
    "We use qiskit's noise simulation capabilities to implement all-qubit depolarising noise as part of the simulation. We also randomly generate all of the circuits first, and then tally them up into jobs of multiple shots. This reduces the number of calls to the backend.\n",
    "\n",
    "*Below is the MGC benchmarking algorithm, which returns the correct entanglement fidelity up to precision of $\\pm 2 \\epsilon$ with probability $1 - 2\\delta$:*"
   ]
  },
  {
   "cell_type": "code",
   "execution_count": 7,
   "metadata": {},
   "outputs": [
    {
     "name": "stdout",
     "output_type": "stream",
     "text": [
      "entanglement fidelity: 0.9283922565298481  | true entanglement fidelity: 0.9003906250000051  | total shots: 7404\n"
     ]
    }
   ],
   "source": [
    "# Specify the input unitary:\n",
    "#matrix = np.eye(2)\n",
    "#matrix = clifford1 @ mg2 @ mg1 @ mg3 @ clifford2\n",
    "#matrix = fsim\n",
    "#matrix = np.kron(mg2, np.eye(2)) @ np.kron(np.eye(2), mg1)\n",
    "matrix = np.kron(mg2, np.eye(4)) @ np.kron(np.kron(np.eye(2), mg1), np.eye(2)) @ np.kron(np.eye(4), mg2)\n",
    "#matrix = mg2 @ mg1 @ mg3 \n",
    "\n",
    "# Specify key parameters:\n",
    "err_prob = 0.1\n",
    "epsilon = 0.1\n",
    "delta = 0.1\n",
    "\n",
    "#region main algorithm \n",
    "\n",
    "# Generate the superoperator and the dictionaries\n",
    "superop = unitary_to_superoperator(matrix)\n",
    "dictionary_mat, dictionary_prob = superop_to_dictionaries(superop)\n",
    "indices, probs = dictionary_to_distribution(dictionary_prob)\n",
    "ugate = UnitaryGate(matrix, label=\"U\")\n",
    "\n",
    "n = int(np.ceil(np.log2(len(matrix))))\n",
    "\n",
    "shots_sum = 0\n",
    "shots = 0\n",
    "jw_list = generate_jw_list_pauli(n)\n",
    "\n",
    "n_iter = int(np.ceil(1 / (delta * epsilon ** 2)))\n",
    "\n",
    "jobs_dict = {}\n",
    "circuit_dict = {}\n",
    "phase_dict = {}\n",
    "\n",
    "# Generate the circuits, assigning an identifier to each. \n",
    "# Prepare a dictionary tallying the number of times each circuit is sampled, \n",
    "# and another dictionary storing the circuit object itself.\n",
    "# NOTE: Multiple dictionaries are used as the keys are not hashable, so we have \n",
    "# a unique hashable 'identifier' as keys and non-hashable objects as values.\n",
    "\n",
    "for k in range(n_iter):\n",
    "\n",
    "    # Input sampled binary string \n",
    "    s_pair = indices[np.random.choice(a=len(indices), size=None, replace=True, p=probs)]\n",
    "\n",
    "    # Calculate the relevant matrix element\n",
    "    r_element = dictionary_mat[s_pair]\n",
    "\n",
    "    # Process the input string\n",
    "    input_pauli = string_to_pauli(jw_list, s_pair[1])\n",
    "    input_phase = input_pauli.phase\n",
    "    input_pauli.phase = 0\n",
    "    i_string = str(input_pauli)\n",
    "\n",
    "    # Process the output string\n",
    "    output_pauli = string_to_pauli(jw_list, s_pair[0]).adjoint()\n",
    "    output_phase = output_pauli.phase\n",
    "    output_pauli.phase = 0\n",
    "    j_string = str(output_pauli)\n",
    "\n",
    "    phase = (-1j) ** (input_phase + output_phase)\n",
    "\n",
    "    n_sample = int(np.ceil(2 * np.log(2 / delta) / (n_iter * (epsilon * abs(r_element)) ** 2)))\n",
    "\n",
    "    for m in range(n_sample):\n",
    "\n",
    "        if s_pair[0] == \"00\"*n:\n",
    "            shots_sum += 1\n",
    "            shots += 1\n",
    "\n",
    "        else:\n",
    "\n",
    "            # Create the quantum circuit\n",
    "            qci = QuantumCircuit(n,n)\n",
    "            lamb = 1\n",
    "\n",
    "            qci_identifier = s_pair\n",
    "            qci_key = \"\"\n",
    "\n",
    "            # INITIALISE THE CIRCUIT IN PAULI EIGENSTATE\n",
    "            # Apply the cliffords to the circuit according to the input. \n",
    "            # This prepares an eigenstate of the pauli & stores the eigenvalue as lamb\n",
    "            # NOTE: The indices are reversed due to the Qiskit Convention, so q_(n-1) represents the first qubit and q_0 the last \n",
    "            for i in range(len(i_string)):\n",
    "                prob = random.randint(0,1)\n",
    "                if prob == 0:\n",
    "                    qci_key += \"0\"\n",
    "                else:\n",
    "                    qci_key += \"1\"\n",
    "\n",
    "                if i_string[i] == 'I':\n",
    "                    if prob == 0:\n",
    "                        qci.id(n-1-i)\n",
    "                    else: \n",
    "                        qci.x(n-1-i)\n",
    "                elif i_string[i] == 'Z':\n",
    "                    if prob == 0:\n",
    "                        qci.x(n-1-i)\n",
    "                        lamb = lamb * -1\n",
    "                    else:\n",
    "                        qci.id(n-1-i)\n",
    "                elif i_string[i] == 'X':\n",
    "                    if prob == 0:\n",
    "                        qci.h(n-1-i)\n",
    "                    else:\n",
    "                        qci.x(n-1-i)\n",
    "                        qci.h(n-1-i)\n",
    "                        lamb = lamb * -1\n",
    "                elif i_string[i] == 'Y':\n",
    "                    if prob == 0:\n",
    "                        qci.h(n-1-i)\n",
    "                        qci.s(n-1-i)\n",
    "                    else:\n",
    "                        qci.x(n-1-i)\n",
    "                        qci.h(n-1-i)\n",
    "                        qci.s(n-1-i)\n",
    "                        lamb = lamb * -1\n",
    "\n",
    "            # APPEND THE UNITARY GATE TO INPUT STATE\n",
    "            qci.barrier()\n",
    "            qci.append(ugate, list(range(n)))\n",
    "            qci.barrier()\n",
    "\n",
    "            # MEASURE THE OUTPUT IN PAULI BASIS\n",
    "            # Apply the cliffords to the circuit according to the output string. This will give measurements in the pauli basis\n",
    "            for j in range(len(j_string)):\n",
    "                if j_string[j] == \"I\" or j_string[j] == \"Z\":\n",
    "                    qci.id(n-1-j)\n",
    "                elif j_string[j] == \"X\":\n",
    "                    qci.h(n-1-j)\n",
    "                elif j_string[j] == \"Y\":\n",
    "                    qci.sdg(n-1-j)\n",
    "                    qci.h(n-1-j)\n",
    "\n",
    "            for j in range(len(j_string)):\n",
    "                if j_string[j] == 'X' or j_string[j] == 'Y' or j_string[j] == 'Z':\n",
    "                    qci.measure(n-1-j, n-1-j)\n",
    "\n",
    "            shots += 1\n",
    "\n",
    "            qci_identifier += (qci_key,)\n",
    "\n",
    "            if qci_identifier not in jobs_dict:\n",
    "                jobs_dict[qci_identifier] = 1\n",
    "                phase_dict[qci_identifier] = (lamb * phase) / (r_element * n_sample)\n",
    "                circuit_dict[qci_identifier] = qci\n",
    "            elif qci_identifier in jobs_dict:\n",
    "                jobs_dict[qci_identifier] += 1\n",
    "\n",
    "noise_model = NoiseModel()\n",
    "dep_error = depolarizing_error(err_prob, n)\n",
    "noise_model.add_quantum_error(dep_error, \"U\", list(range(n)))\n",
    "\n",
    "# Execute the tallied circuits on the Aer simulator\n",
    "for qci_identifier in jobs_dict:\n",
    "    simulator = Aer.get_backend('aer_simulator')\n",
    "    job = execute(circuit_dict[qci_identifier], backend=simulator, shots=jobs_dict[qci_identifier], noise_model=noise_model)\n",
    "    result = job.result()\n",
    "    counts = result.get_counts()\n",
    "    for strings in counts:\n",
    "        shots_sum += (-1)**strings.count('1') * phase_dict[qci_identifier] * counts[strings]\n",
    "\n",
    "# Calculate the true entanglement fidelity from the top-left element of the noise process matrix.\n",
    "processmat = Chi(dep_error).data / 2**(n)\n",
    "true_entanglement_fidelity = processmat[0,0]\n",
    "\n",
    "#endregion\n",
    "\n",
    "print(\"entanglement fidelity:\", np.real(shots_sum / n_iter), \" | true entanglement fidelity:\", np.real(true_entanglement_fidelity), \" | total shots:\", shots)"
   ]
  },
  {
   "cell_type": "markdown",
   "metadata": {},
   "source": [
    "The above code, modified to collect our data may be found in the `matchgate_benchmarking_data_collction.ipynb` notebook."
   ]
  }
 ],
 "metadata": {
  "kernelspec": {
   "display_name": ".venv",
   "language": "python",
   "name": "python3"
  },
  "language_info": {
   "codemirror_mode": {
    "name": "ipython",
    "version": 3
   },
   "file_extension": ".py",
   "mimetype": "text/x-python",
   "name": "python",
   "nbconvert_exporter": "python",
   "pygments_lexer": "ipython3",
   "version": "3.11.5"
  }
 },
 "nbformat": 4,
 "nbformat_minor": 2
}
